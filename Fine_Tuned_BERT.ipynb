{
  "nbformat": 4,
  "nbformat_minor": 0,
  "metadata": {
    "colab": {
      "name": "Fine Tuned BERT.ipynb",
      "provenance": [],
      "collapsed_sections": []
    },
    "kernelspec": {
      "name": "python3",
      "display_name": "Python 3"
    },
    "accelerator": "GPU"
  },
  "cells": [
    {
      "cell_type": "code",
      "metadata": {
        "colab": {
          "base_uri": "https://localhost:8080/"
        },
        "id": "aP41UZ5D4gcv",
        "outputId": "f7298060-690a-4e37-ec96-317965f0b762"
      },
      "source": [
        "!nvidia-smi"
      ],
      "execution_count": 1,
      "outputs": [
        {
          "output_type": "stream",
          "text": [
            "Mon Dec 14 18:49:51 2020       \n",
            "+-----------------------------------------------------------------------------+\n",
            "| NVIDIA-SMI 455.45.01    Driver Version: 418.67       CUDA Version: 10.1     |\n",
            "|-------------------------------+----------------------+----------------------+\n",
            "| GPU  Name        Persistence-M| Bus-Id        Disp.A | Volatile Uncorr. ECC |\n",
            "| Fan  Temp  Perf  Pwr:Usage/Cap|         Memory-Usage | GPU-Util  Compute M. |\n",
            "|                               |                      |               MIG M. |\n",
            "|===============================+======================+======================|\n",
            "|   0  Tesla T4            Off  | 00000000:00:04.0 Off |                    0 |\n",
            "| N/A   65C    P8    12W /  70W |      0MiB / 15079MiB |      0%      Default |\n",
            "|                               |                      |                 ERR! |\n",
            "+-------------------------------+----------------------+----------------------+\n",
            "                                                                               \n",
            "+-----------------------------------------------------------------------------+\n",
            "| Processes:                                                                  |\n",
            "|  GPU   GI   CI        PID   Type   Process name                  GPU Memory |\n",
            "|        ID   ID                                                   Usage      |\n",
            "|=============================================================================|\n",
            "|  No running processes found                                                 |\n",
            "+-----------------------------------------------------------------------------+\n"
          ],
          "name": "stdout"
        }
      ]
    },
    {
      "cell_type": "code",
      "metadata": {
        "colab": {
          "base_uri": "https://localhost:8080/"
        },
        "id": "_qXffrgR5lDO",
        "outputId": "a8e638f6-f2aa-49c2-97ca-fd02b64f0a03"
      },
      "source": [
        "# Installing tensorflow \r\n",
        "import tensorflow as tf\r\n",
        "print(tf.version.VERSION) #Checking the tensorflow version"
      ],
      "execution_count": 2,
      "outputs": [
        {
          "output_type": "stream",
          "text": [
            "2.3.0\n"
          ],
          "name": "stdout"
        }
      ]
    },
    {
      "cell_type": "code",
      "metadata": {
        "colab": {
          "base_uri": "https://localhost:8080/"
        },
        "id": "9j0rfIEr557N",
        "outputId": "ec8e0416-11d0-44b1-cf7b-f7182b45035c"
      },
      "source": [
        "!git clone --depth 1 -b v2.3.0 https://github.com/tensorflow/models.git\r\n",
        "# tensorflow garden contains state of the art implementations of the models"
      ],
      "execution_count": 3,
      "outputs": [
        {
          "output_type": "stream",
          "text": [
            "fatal: destination path 'models' already exists and is not an empty directory.\n"
          ],
          "name": "stdout"
        }
      ]
    },
    {
      "cell_type": "code",
      "metadata": {
        "colab": {
          "base_uri": "https://localhost:8080/"
        },
        "id": "jBhMrMv37TGZ",
        "outputId": "89865b86-3641-4bc2-8ea9-a0a6de11c46c"
      },
      "source": [
        "!pip install -Uqr models/official/requirements.txt"
      ],
      "execution_count": 4,
      "outputs": [
        {
          "output_type": "stream",
          "text": [
            "\u001b[K     |████████████████████████████████| 71kB 7.5MB/s \n",
            "\u001b[K     |████████████████████████████████| 215kB 12.0MB/s \n",
            "\u001b[K     |████████████████████████████████| 14.5MB 250kB/s \n",
            "\u001b[K     |████████████████████████████████| 471kB 58.2MB/s \n",
            "\u001b[K     |████████████████████████████████| 102kB 14.3MB/s \n",
            "\u001b[K     |████████████████████████████████| 25.9MB 99kB/s \n",
            "\u001b[K     |████████████████████████████████| 174kB 60.8MB/s \n",
            "\u001b[K     |████████████████████████████████| 3.6MB 53.6MB/s \n",
            "\u001b[K     |████████████████████████████████| 1.1MB 50.2MB/s \n",
            "\u001b[K     |████████████████████████████████| 358kB 59.0MB/s \n",
            "\u001b[K     |████████████████████████████████| 1.1MB 49.8MB/s \n",
            "\u001b[K     |████████████████████████████████| 11.6MB 211kB/s \n",
            "\u001b[K     |████████████████████████████████| 36.7MB 89kB/s \n",
            "\u001b[K     |████████████████████████████████| 276kB 62.6MB/s \n",
            "\u001b[K     |████████████████████████████████| 2.2MB 47.0MB/s \n",
            "\u001b[K     |████████████████████████████████| 92kB 12.5MB/s \n",
            "\u001b[K     |████████████████████████████████| 81kB 12.3MB/s \n",
            "\u001b[K     |████████████████████████████████| 51kB 7.7MB/s \n",
            "\u001b[?25h  Building wheel for psutil (setup.py) ... \u001b[?25l\u001b[?25hdone\n",
            "  Building wheel for py-cpuinfo (setup.py) ... \u001b[?25l\u001b[?25hdone\n",
            "  Building wheel for pyyaml (setup.py) ... \u001b[?25l\u001b[?25hdone\n",
            "  Building wheel for proto-plus (setup.py) ... \u001b[?25l\u001b[?25hdone\n",
            "\u001b[31mERROR: tensorflow 2.3.0 has requirement numpy<1.19.0,>=1.16.0, but you'll have numpy 1.19.4 which is incompatible.\u001b[0m\n",
            "\u001b[31mERROR: tensorflow 2.3.0 has requirement scipy==1.4.1, but you'll have scipy 1.5.4 which is incompatible.\u001b[0m\n",
            "\u001b[31mERROR: pandas-gbq 0.13.3 has requirement google-cloud-bigquery[bqstorage,pandas]<2.0.0dev,>=1.11.1, but you'll have google-cloud-bigquery 2.6.1 which is incompatible.\u001b[0m\n",
            "\u001b[31mERROR: google-cloud-storage 1.18.1 has requirement google-resumable-media<0.5.0dev,>=0.3.1, but you'll have google-resumable-media 1.1.0 which is incompatible.\u001b[0m\n",
            "\u001b[31mERROR: google-api-core 1.23.0 has requirement google-auth<2.0dev,>=1.21.1, but you'll have google-auth 1.17.2 which is incompatible.\u001b[0m\n",
            "\u001b[31mERROR: datascience 0.10.6 has requirement folium==0.2.1, but you'll have folium 0.8.3 which is incompatible.\u001b[0m\n",
            "\u001b[31mERROR: albumentations 0.1.12 has requirement imgaug<0.2.7,>=0.2.5, but you'll have imgaug 0.2.9 which is incompatible.\u001b[0m\n"
          ],
          "name": "stdout"
        }
      ]
    },
    {
      "cell_type": "code",
      "metadata": {
        "id": "XlXpkE-c7khw"
      },
      "source": [
        "import numpy as np\r\n",
        "import tensorflow as tf\r\n",
        "import tensorflow_hub as hub\r\n",
        "import sys\r\n",
        "import matplotlib.pyplot as plt\r\n",
        "import pandas as pd\r\n",
        "sys.path.append('models')\r\n",
        "from official.nlp.data import classifier_data_lib\r\n",
        "from official.nlp.bert import tokenization\r\n",
        "from official.nlp import optimization"
      ],
      "execution_count": 4,
      "outputs": []
    },
    {
      "cell_type": "code",
      "metadata": {
        "colab": {
          "base_uri": "https://localhost:8080/"
        },
        "id": "fqIN_MER8oHy",
        "outputId": "193e9312-bfc4-453d-8b69-435175cfe975"
      },
      "source": [
        "# Checking the versions \r\n",
        "print(\"TF Version: \", tf.__version__)\r\n",
        "print(\"Hub Version: \", hub.__version__)\r\n",
        "print('GPU is', \"available\" if tf.config.experimental.list_physical_devices(\"GPU\") else \"Not Available\") "
      ],
      "execution_count": 5,
      "outputs": [
        {
          "output_type": "stream",
          "text": [
            "TF Version:  2.3.0\n",
            "Hub Version:  0.10.0\n",
            "GPU is available\n"
          ],
          "name": "stdout"
        }
      ]
    },
    {
      "cell_type": "code",
      "metadata": {
        "colab": {
          "base_uri": "https://localhost:8080/"
        },
        "id": "pR7aAXeQsFp7",
        "outputId": "8af7cf1f-0c3f-4112-9ce7-e2fae7245460"
      },
      "source": [
        "from google.colab import drive\r\n",
        "drive.mount('/content/drive/')"
      ],
      "execution_count": 6,
      "outputs": [
        {
          "output_type": "stream",
          "text": [
            "Drive already mounted at /content/drive/; to attempt to forcibly remount, call drive.mount(\"/content/drive/\", force_remount=True).\n"
          ],
          "name": "stdout"
        }
      ]
    },
    {
      "cell_type": "code",
      "metadata": {
        "id": "enLlwJzd_YaW"
      },
      "source": [
        "#importing the quora dataset\r\n",
        "\r\n",
        "train_df = pd.read_csv(\"/content/drive/My Drive/train.csv\")\r\n",
        "test_df = pd.read_csv(\"/content/drive/My Drive/test.csv\")"
      ],
      "execution_count": 7,
      "outputs": []
    },
    {
      "cell_type": "code",
      "metadata": {
        "colab": {
          "base_uri": "https://localhost:8080/"
        },
        "id": "ZFrMCTaIscyd",
        "outputId": "c3411e45-1fd7-442d-e941-6d4084edd356"
      },
      "source": [
        "train_df.shape"
      ],
      "execution_count": 8,
      "outputs": [
        {
          "output_type": "execute_result",
          "data": {
            "text/plain": [
              "(1306122, 3)"
            ]
          },
          "metadata": {
            "tags": []
          },
          "execution_count": 8
        }
      ]
    },
    {
      "cell_type": "code",
      "metadata": {
        "colab": {
          "base_uri": "https://localhost:8080/",
          "height": 648
        },
        "id": "E3SbksM-soYR",
        "outputId": "ab24b933-0b51-4e42-babc-3753d13b4f02"
      },
      "source": [
        "train_df.tail(20) # Returns Last 20 rows"
      ],
      "execution_count": 9,
      "outputs": [
        {
          "output_type": "execute_result",
          "data": {
            "text/html": [
              "<div>\n",
              "<style scoped>\n",
              "    .dataframe tbody tr th:only-of-type {\n",
              "        vertical-align: middle;\n",
              "    }\n",
              "\n",
              "    .dataframe tbody tr th {\n",
              "        vertical-align: top;\n",
              "    }\n",
              "\n",
              "    .dataframe thead th {\n",
              "        text-align: right;\n",
              "    }\n",
              "</style>\n",
              "<table border=\"1\" class=\"dataframe\">\n",
              "  <thead>\n",
              "    <tr style=\"text-align: right;\">\n",
              "      <th></th>\n",
              "      <th>qid</th>\n",
              "      <th>question_text</th>\n",
              "      <th>target</th>\n",
              "    </tr>\n",
              "  </thead>\n",
              "  <tbody>\n",
              "    <tr>\n",
              "      <th>1306102</th>\n",
              "      <td>ffff3778790af9baae76</td>\n",
              "      <td>What steps can I take to live a normal life if...</td>\n",
              "      <td>0</td>\n",
              "    </tr>\n",
              "    <tr>\n",
              "      <th>1306103</th>\n",
              "      <td>ffff3f0a2449ffe4b9ff</td>\n",
              "      <td>Isn't Trump right after all? Why should the US...</td>\n",
              "      <td>1</td>\n",
              "    </tr>\n",
              "    <tr>\n",
              "      <th>1306104</th>\n",
              "      <td>ffff41393389d4206066</td>\n",
              "      <td>Is 33 too late for a career in creative advert...</td>\n",
              "      <td>0</td>\n",
              "    </tr>\n",
              "    <tr>\n",
              "      <th>1306105</th>\n",
              "      <td>ffff42493fc203cd9532</td>\n",
              "      <td>What is difference between the filteration wor...</td>\n",
              "      <td>0</td>\n",
              "    </tr>\n",
              "    <tr>\n",
              "      <th>1306106</th>\n",
              "      <td>ffff48dd47bee89fff79</td>\n",
              "      <td>If the universe \"popped\" into existence from n...</td>\n",
              "      <td>0</td>\n",
              "    </tr>\n",
              "    <tr>\n",
              "      <th>1306107</th>\n",
              "      <td>ffff5fd051a032f32a39</td>\n",
              "      <td>How does a shared service technology team meas...</td>\n",
              "      <td>0</td>\n",
              "    </tr>\n",
              "    <tr>\n",
              "      <th>1306108</th>\n",
              "      <td>ffff6d528040d3888b93</td>\n",
              "      <td>How is DSATM civil engineering?</td>\n",
              "      <td>0</td>\n",
              "    </tr>\n",
              "    <tr>\n",
              "      <th>1306109</th>\n",
              "      <td>ffff8776cd30cdc8d7f8</td>\n",
              "      <td>Do you know any problem that depends solely on...</td>\n",
              "      <td>0</td>\n",
              "    </tr>\n",
              "    <tr>\n",
              "      <th>1306110</th>\n",
              "      <td>ffff94d427ade3716cd1</td>\n",
              "      <td>What are some comic ideas for you Tube videos ...</td>\n",
              "      <td>0</td>\n",
              "    </tr>\n",
              "    <tr>\n",
              "      <th>1306111</th>\n",
              "      <td>ffffa382c58368071dc9</td>\n",
              "      <td>If you had $10 million of Bitcoin, could you s...</td>\n",
              "      <td>0</td>\n",
              "    </tr>\n",
              "    <tr>\n",
              "      <th>1306112</th>\n",
              "      <td>ffffa5b0fa76431c063f</td>\n",
              "      <td>Are you ashamed of being an Indian?</td>\n",
              "      <td>1</td>\n",
              "    </tr>\n",
              "    <tr>\n",
              "      <th>1306113</th>\n",
              "      <td>ffffae5dbda3dc9e9771</td>\n",
              "      <td>What are the methods to determine fossil ages ...</td>\n",
              "      <td>0</td>\n",
              "    </tr>\n",
              "    <tr>\n",
              "      <th>1306114</th>\n",
              "      <td>ffffba7c4888798571c1</td>\n",
              "      <td>What is your story today?</td>\n",
              "      <td>0</td>\n",
              "    </tr>\n",
              "    <tr>\n",
              "      <th>1306115</th>\n",
              "      <td>ffffc0c7158658a06fd9</td>\n",
              "      <td>How do I consume 150 gms protein daily both ve...</td>\n",
              "      <td>0</td>\n",
              "    </tr>\n",
              "    <tr>\n",
              "      <th>1306116</th>\n",
              "      <td>ffffc404da586ac5a08f</td>\n",
              "      <td>What are the good career options for a msc che...</td>\n",
              "      <td>0</td>\n",
              "    </tr>\n",
              "    <tr>\n",
              "      <th>1306117</th>\n",
              "      <td>ffffcc4e2331aaf1e41e</td>\n",
              "      <td>What other technical skills do you need as a c...</td>\n",
              "      <td>0</td>\n",
              "    </tr>\n",
              "    <tr>\n",
              "      <th>1306118</th>\n",
              "      <td>ffffd431801e5a2f4861</td>\n",
              "      <td>Does MS in ECE have good job prospects in USA ...</td>\n",
              "      <td>0</td>\n",
              "    </tr>\n",
              "    <tr>\n",
              "      <th>1306119</th>\n",
              "      <td>ffffd48fb36b63db010c</td>\n",
              "      <td>Is foam insulation toxic?</td>\n",
              "      <td>0</td>\n",
              "    </tr>\n",
              "    <tr>\n",
              "      <th>1306120</th>\n",
              "      <td>ffffec519fa37cf60c78</td>\n",
              "      <td>How can one start a research project based on ...</td>\n",
              "      <td>0</td>\n",
              "    </tr>\n",
              "    <tr>\n",
              "      <th>1306121</th>\n",
              "      <td>ffffed09fedb5088744a</td>\n",
              "      <td>Who wins in a battle between a Wolverine and a...</td>\n",
              "      <td>0</td>\n",
              "    </tr>\n",
              "  </tbody>\n",
              "</table>\n",
              "</div>"
            ],
            "text/plain": [
              "                          qid  ... target\n",
              "1306102  ffff3778790af9baae76  ...      0\n",
              "1306103  ffff3f0a2449ffe4b9ff  ...      1\n",
              "1306104  ffff41393389d4206066  ...      0\n",
              "1306105  ffff42493fc203cd9532  ...      0\n",
              "1306106  ffff48dd47bee89fff79  ...      0\n",
              "1306107  ffff5fd051a032f32a39  ...      0\n",
              "1306108  ffff6d528040d3888b93  ...      0\n",
              "1306109  ffff8776cd30cdc8d7f8  ...      0\n",
              "1306110  ffff94d427ade3716cd1  ...      0\n",
              "1306111  ffffa382c58368071dc9  ...      0\n",
              "1306112  ffffa5b0fa76431c063f  ...      1\n",
              "1306113  ffffae5dbda3dc9e9771  ...      0\n",
              "1306114  ffffba7c4888798571c1  ...      0\n",
              "1306115  ffffc0c7158658a06fd9  ...      0\n",
              "1306116  ffffc404da586ac5a08f  ...      0\n",
              "1306117  ffffcc4e2331aaf1e41e  ...      0\n",
              "1306118  ffffd431801e5a2f4861  ...      0\n",
              "1306119  ffffd48fb36b63db010c  ...      0\n",
              "1306120  ffffec519fa37cf60c78  ...      0\n",
              "1306121  ffffed09fedb5088744a  ...      0\n",
              "\n",
              "[20 rows x 3 columns]"
            ]
          },
          "metadata": {
            "tags": []
          },
          "execution_count": 9
        }
      ]
    },
    {
      "cell_type": "code",
      "metadata": {
        "id": "R6WoYr76u9pN"
      },
      "source": [
        "# Creating train and validation set\r\n",
        "from sklearn.model_selection import train_test_split"
      ],
      "execution_count": 10,
      "outputs": []
    },
    {
      "cell_type": "code",
      "metadata": {
        "colab": {
          "base_uri": "https://localhost:8080/"
        },
        "id": "0j1JtRsXvs1c",
        "outputId": "2614367f-92e5-4e33-8fa7-dc3959b38f31"
      },
      "source": [
        "# Since BERT takes a lot of time to train the data. a sample of 10000 dataset was created \r\n",
        "# because of the memory exhaustion tf.data api is used to prevent the GPU from data starvation. these creates a data pipeline where large data can be optimized and sent to the GPU\r\n",
        "# Former data pipelines made the GPU wait for the CPU to load the data, leading to performance issues.\r\n",
        "quora_train, remaining_data = train_test_split(train_df, random_state = 42, train_size= 0.0085, stratify= train_df.target.values)\r\n",
        "quora_validation, _ = train_test_split(remaining_data, random_state = 42, train_size =0.00085, stratify = remaining_data.target.values)\r\n",
        "quora_train.shape, quora_validation.shape"
      ],
      "execution_count": 13,
      "outputs": [
        {
          "output_type": "execute_result",
          "data": {
            "text/plain": [
              "((11102, 3), (1100, 3))"
            ]
          },
          "metadata": {
            "tags": []
          },
          "execution_count": 13
        }
      ]
    },
    {
      "cell_type": "code",
      "metadata": {
        "id": "t9dE8Uzezd6a"
      },
      "source": [
        "# the size of the bert model is very large because it is trained on very large datasets and consists of 100 million+ parameters \r\n",
        "# Time taken to train a BERT Model is very expensive. and most of the time the memory gets exhausted.\r\n",
        "# Therefore only 10000 data was selected for training data and 1000 for validation set\r\n",
        "# stratified was used to allow proper allocation of the target values."
      ],
      "execution_count": 14,
      "outputs": []
    },
    {
      "cell_type": "code",
      "metadata": {
        "colab": {
          "base_uri": "https://localhost:8080/"
        },
        "id": "-ECQmEKb2-Px",
        "outputId": "86c560c7-1972-4f90-cfab-089d55fabb04"
      },
      "source": [
        "with tf.device('/cpu:0'):\r\n",
        "  train_data = tf.data.Dataset.from_tensor_slices((quora_train['question_text'].values, quora_train['target'].values))\r\n",
        "  valid_data = tf.data.Dataset.from_tensor_slices((quora_validation.question_text.values, quora_validation.target.values))\r\n",
        "\r\n",
        "  for text, label in train_data.take(1): #iterating over the train data to get the first value from the train_data\r\n",
        "    print(text)\r\n",
        "    print(label)"
      ],
      "execution_count": 15,
      "outputs": [
        {
          "output_type": "stream",
          "text": [
            "tf.Tensor(b'Me, my son, my daughter, and husband will wait till there 18 to have group sex. Wired or what?', shape=(), dtype=string)\n",
            "tf.Tensor(1, shape=(), dtype=int64)\n"
          ],
          "name": "stdout"
        }
      ]
    },
    {
      "cell_type": "code",
      "metadata": {
        "colab": {
          "base_uri": "https://localhost:8080/"
        },
        "id": "c0tI_qeT4kSG",
        "outputId": "33e58d19-9b52-487b-fe17-eb752b250048"
      },
      "source": [
        "%%time\r\n",
        "# Data pre-processing will consists of transforming text to BERT input features\r\n",
        "# input_word_ids, input_mask, segment_ids\r\n",
        "# tokenization will be done with the help of BERT Tokenizer\r\n",
        "\r\n",
        "#label categories\r\n",
        "label_list = [0,1]\r\n",
        "\r\n",
        "# maximum length of (token) input sequences.\r\n",
        "max_seq_length = 128\r\n",
        "\r\n",
        "train_batch_size = 32\r\n",
        "\r\n",
        "# Downloading a Pre-trained BERT Model from the tensor flow hub\r\n",
        "bert_layer = hub.KerasLayer(\"https://tfhub.dev/tensorflow/bert_en_uncased_L-12_H-768_A-12/2\", trainable=True)\r\n",
        "# trainable = true means all the parameters will be fine-tuned\r\n",
        "\r\n",
        "vocab_file = bert_layer.resolved_object.vocab_file.asset_path.numpy()\r\n",
        "do_lower_cased = bert_layer.resolved_object.do_lower_case.numpy()\r\n",
        "bert_tokenizer = tokenization.FullTokenizer(vocab_file, do_lower_cased) # this step handles all the pre-processing\r\n",
        "\r\n"
      ],
      "execution_count": 16,
      "outputs": [
        {
          "output_type": "stream",
          "text": [
            "CPU times: user 19.2 s, sys: 4.78 s, total: 23.9 s\n",
            "Wall time: 1min 14s\n"
          ],
          "name": "stdout"
        }
      ]
    },
    {
      "cell_type": "code",
      "metadata": {
        "colab": {
          "base_uri": "https://localhost:8080/"
        },
        "id": "gqAzNI5b-0gY",
        "outputId": "05be35a1-0f39-4c9a-e91b-5a1828bdab12"
      },
      "source": [
        "bert_tokenizer.wordpiece_tokenizer.tokenize(\"hi, how are you doing?\") # this is the way bert performs tokenization"
      ],
      "execution_count": 17,
      "outputs": [
        {
          "output_type": "execute_result",
          "data": {
            "text/plain": [
              "['hi', '##,', 'how', 'are', 'you', 'doing', '##?']"
            ]
          },
          "metadata": {
            "tags": []
          },
          "execution_count": 17
        }
      ]
    },
    {
      "cell_type": "code",
      "metadata": {
        "colab": {
          "base_uri": "https://localhost:8080/"
        },
        "id": "_nPpUGWg_KMp",
        "outputId": "3aede45e-3edd-4645-cb0a-db7fa5651da4"
      },
      "source": [
        "bert_tokenizer.convert_tokens_to_ids(bert_tokenizer.wordpiece_tokenizer.tokenize(\"hi, how are you doing?\")) # this is the way bert performs tokenization"
      ],
      "execution_count": 18,
      "outputs": [
        {
          "output_type": "execute_result",
          "data": {
            "text/plain": [
              "[7632, 29623, 2129, 2024, 2017, 2725, 29632]"
            ]
          },
          "metadata": {
            "tags": []
          },
          "execution_count": 18
        }
      ]
    },
    {
      "cell_type": "code",
      "metadata": {
        "id": "raQozMIRAYxz"
      },
      "source": [
        "# we are going to prepend \"CLS\" at the start and \"SEP\" at the end\r\n",
        "# padding will be done to make the sentence of equal length"
      ],
      "execution_count": 19,
      "outputs": []
    },
    {
      "cell_type": "code",
      "metadata": {
        "id": "rcSISEMGA-q7"
      },
      "source": [
        "# we will need to transform our data into a format which the BERT Model understand.\r\n",
        "# we will create inputexamples using classifier_data_lib's constructor InputExample provided in the BERT Library."
      ],
      "execution_count": 20,
      "outputs": []
    },
    {
      "cell_type": "code",
      "metadata": {
        "id": "bYwsjHcDBZHz"
      },
      "source": [
        "# the function will convert rows to input features and label.\r\n",
        "\r\n",
        "def to_feature(text, label, label_list = label_list, max_seq_length = max_seq_length, tokenizer = bert_tokenizer):\r\n",
        "  example = classifier_data_lib.InputExample(guid=None,\r\n",
        "                                             text_a = text.numpy(),\r\n",
        "                                             text_b = None,\r\n",
        "                                             label = label.numpy())\r\n",
        "  feature = classifier_data_lib.convert_single_example(0,example,label_list, max_seq_length, bert_tokenizer)\r\n",
        "\r\n",
        "  return(feature.input_ids, feature.input_mask, feature.segment_ids, feature.label_id)\r\n",
        "  "
      ],
      "execution_count": 21,
      "outputs": []
    },
    {
      "cell_type": "code",
      "metadata": {
        "id": "8YavrHcQDJBE"
      },
      "source": [
        "def to_feature_map(text, label):\r\n",
        "  input_ids, input_mask, segment_ids, label_id = tf.py_function(to_feature, inp=[text, label],\r\n",
        "                                                                Tout =[tf.int32,tf.int32,tf.int32,tf.int32])\r\n",
        "  \r\n",
        "  input_ids.set_shape([max_seq_length])\r\n",
        "  input_mask.set_shape([max_seq_length])\r\n",
        "  segment_ids.set_shape([max_seq_length])\r\n",
        "  label_id.set_shape([])\r\n",
        "\r\n",
        "  x = {\r\n",
        "      'input_word_ids': input_ids,\r\n",
        "       'input_mask': input_mask,\r\n",
        "       'input_type_ids': segment_ids\r\n",
        "  }\r\n",
        "\r\n",
        "  return (x, label_id)"
      ],
      "execution_count": 22,
      "outputs": []
    },
    {
      "cell_type": "code",
      "metadata": {
        "id": "wj8U-QCOGq1W"
      },
      "source": [
        "# Creating a tensorflow input pipeline with tf.data"
      ],
      "execution_count": 23,
      "outputs": []
    },
    {
      "cell_type": "code",
      "metadata": {
        "id": "n5ljg6y4HY50"
      },
      "source": [
        "with tf.device('/cpu:0'):\r\n",
        "  train_data = (train_data.map(to_feature_map,\r\n",
        "                               num_parallel_calls = tf.data.experimental.AUTOTUNE)\r\n",
        "  .shuffle(100)\r\n",
        "  .batch(32,drop_remainder = True)\r\n",
        "  .prefetch(tf.data.experimental.AUTOTUNE))\r\n",
        "\r\n",
        "\r\n",
        "  # valid data\r\n",
        "  valid_data = (valid_data.map(to_feature_map,\r\n",
        "                                         num_parallel_calls = tf.data.experimental.AUTOTUNE)\r\n",
        "  .batch(32,drop_remainder = True)\r\n",
        "  .prefetch(tf.data.experimental.AUTOTUNE))  "
      ],
      "execution_count": 24,
      "outputs": []
    },
    {
      "cell_type": "code",
      "metadata": {
        "colab": {
          "base_uri": "https://localhost:8080/"
        },
        "id": "9VudtHHQruRT",
        "outputId": "33ab485d-240f-4b42-bd63-07b2d97a7d75"
      },
      "source": [
        "train_data.element_spec"
      ],
      "execution_count": 25,
      "outputs": [
        {
          "output_type": "execute_result",
          "data": {
            "text/plain": [
              "({'input_mask': TensorSpec(shape=(32, 128), dtype=tf.int32, name=None),\n",
              "  'input_type_ids': TensorSpec(shape=(32, 128), dtype=tf.int32, name=None),\n",
              "  'input_word_ids': TensorSpec(shape=(32, 128), dtype=tf.int32, name=None)},\n",
              " TensorSpec(shape=(32,), dtype=tf.int32, name=None))"
            ]
          },
          "metadata": {
            "tags": []
          },
          "execution_count": 25
        }
      ]
    },
    {
      "cell_type": "code",
      "metadata": {
        "colab": {
          "base_uri": "https://localhost:8080/"
        },
        "id": "VUvzERMwuVlT",
        "outputId": "ee51560e-3460-412c-b741-524e0cb002c4"
      },
      "source": [
        "valid_data.element_spec"
      ],
      "execution_count": 26,
      "outputs": [
        {
          "output_type": "execute_result",
          "data": {
            "text/plain": [
              "({'input_mask': TensorSpec(shape=(32, 128), dtype=tf.int32, name=None),\n",
              "  'input_type_ids': TensorSpec(shape=(32, 128), dtype=tf.int32, name=None),\n",
              "  'input_word_ids': TensorSpec(shape=(32, 128), dtype=tf.int32, name=None)},\n",
              " TensorSpec(shape=(32,), dtype=tf.int32, name=None))"
            ]
          },
          "metadata": {
            "tags": []
          },
          "execution_count": 26
        }
      ]
    },
    {
      "cell_type": "code",
      "metadata": {
        "id": "Sh4S6PHEugtr"
      },
      "source": [
        "# Adding Classification Head to the BERT Layer\r\n",
        "# BERT will generate 768 dimension contextualised word"
      ],
      "execution_count": 27,
      "outputs": []
    },
    {
      "cell_type": "code",
      "metadata": {
        "id": "dgMdXwHAvLRm"
      },
      "source": [
        "def create_bert_model():\r\n",
        "  input_word_ids = tf.keras.layers.Input(shape=(max_seq_length,), dtype=tf.int32,\r\n",
        "                                        name=\"input_word_ids\")\r\n",
        "  \r\n",
        "  input_mask = tf.keras.layers.Input(shape=(max_seq_length,), dtype=tf.int32,\r\n",
        "                                    name=\"input_mask\")\r\n",
        "  \r\n",
        "  segment_ids = tf.keras.layers.Input(shape=(max_seq_length,), dtype=tf.int32,\r\n",
        "                                      name=\"segment_ids\")\r\n",
        "  \r\n",
        "  pooled_output, sequence_output = bert_layer([input_word_ids, input_mask, segment_ids])\r\n",
        "\r\n",
        "  #dropout is added to prevent overfitting on the training set\r\n",
        "  drop = tf.keras.layers.Dropout(0.4)(pooled_output)\r\n",
        "  output = tf.keras.layers.Dense(1, activation=\"sigmoid\", name=\"output\")(drop) #because we are doing binary classification sigmoid will give value between 0 AND 1\r\n",
        "  quora_model = tf.keras.Model(\r\n",
        "      inputs = {\r\n",
        "        'input_word_ids': input_word_ids,\r\n",
        "        'input_mask': input_mask,\r\n",
        "        'input_type_ids': segment_ids\r\n",
        "      },\r\n",
        "      outputs = output)\r\n",
        "  return quora_model"
      ],
      "execution_count": 28,
      "outputs": []
    },
    {
      "cell_type": "code",
      "metadata": {
        "colab": {
          "base_uri": "https://localhost:8080/"
        },
        "id": "8e31Pgb1yOIX",
        "outputId": "f1fca1d2-87d1-4766-9d05-749e6e5e7ed2"
      },
      "source": [
        "# Fine tuning BERT\r\n",
        "model = create_bert_model()\r\n",
        "model.compile(optimizer = tf.keras.optimizers.Adam(learning_rate=2e-5),\r\n",
        "              loss = tf.keras.losses.BinaryCrossentropy(),\r\n",
        "              metrics = [tf.keras.metrics.BinaryAccuracy()])\r\n",
        "model.summary()"
      ],
      "execution_count": 29,
      "outputs": [
        {
          "output_type": "stream",
          "text": [
            "Model: \"functional_1\"\n",
            "__________________________________________________________________________________________________\n",
            "Layer (type)                    Output Shape         Param #     Connected to                     \n",
            "==================================================================================================\n",
            "input_word_ids (InputLayer)     [(None, 128)]        0                                            \n",
            "__________________________________________________________________________________________________\n",
            "input_mask (InputLayer)         [(None, 128)]        0                                            \n",
            "__________________________________________________________________________________________________\n",
            "segment_ids (InputLayer)        [(None, 128)]        0                                            \n",
            "__________________________________________________________________________________________________\n",
            "keras_layer (KerasLayer)        [(None, 768), (None, 109482241   input_word_ids[0][0]             \n",
            "                                                                 input_mask[0][0]                 \n",
            "                                                                 segment_ids[0][0]                \n",
            "__________________________________________________________________________________________________\n",
            "dropout (Dropout)               (None, 768)          0           keras_layer[0][0]                \n",
            "__________________________________________________________________________________________________\n",
            "output (Dense)                  (None, 1)            769         dropout[0][0]                    \n",
            "==================================================================================================\n",
            "Total params: 109,483,010\n",
            "Trainable params: 109,483,009\n",
            "Non-trainable params: 1\n",
            "__________________________________________________________________________________________________\n"
          ],
          "name": "stdout"
        }
      ]
    },
    {
      "cell_type": "code",
      "metadata": {
        "colab": {
          "base_uri": "https://localhost:8080/",
          "height": 338
        },
        "id": "kxhnpsEYzlAa",
        "outputId": "72bd5ef1-73d5-48bf-d2ce-0482b7341f4e"
      },
      "source": [
        "tf.keras.utils.plot_model(model=model, show_shapes=True, dpi = 76)"
      ],
      "execution_count": 30,
      "outputs": [
        {
          "output_type": "execute_result",
          "data": {
            "image/png": "[encoded data removed]",
            "text/plain": [
              "<IPython.core.display.Image object>"
            ]
          },
          "metadata": {
            "tags": []
          },
          "execution_count": 30
        }
      ]
    },
    {
      "cell_type": "code",
      "metadata": {
        "colab": {
          "base_uri": "https://localhost:8080/"
        },
        "id": "qc9jsFwD0WP1",
        "outputId": "42e8213a-bc89-4a05-9c84-e7453063a0b8"
      },
      "source": [
        "# train_model\r\n",
        "epochs = 5\r\n",
        "history_quora = model.fit(train_data,\r\n",
        "                          validation_data = valid_data,\r\n",
        "                          epochs = epochs,\r\n",
        "                          verbose = 1)\r\n"
      ],
      "execution_count": 31,
      "outputs": [
        {
          "output_type": "stream",
          "text": [
            "Epoch 1/5\n",
            "346/346 [==============================] - ETA: 0s - loss: 0.1664 - binary_accuracy: 0.9394WARNING:tensorflow:Callbacks method `on_test_batch_end` is slow compared to the batch time (batch time: 0.0175s vs `on_test_batch_end` time: 0.2804s). Check your callbacks.\n"
          ],
          "name": "stdout"
        },
        {
          "output_type": "stream",
          "text": [
            "WARNING:tensorflow:Callbacks method `on_test_batch_end` is slow compared to the batch time (batch time: 0.0175s vs `on_test_batch_end` time: 0.2804s). Check your callbacks.\n"
          ],
          "name": "stderr"
        },
        {
          "output_type": "stream",
          "text": [
            "\b\b\b\b\b\b\b\b\b\b\b\b\b\b\b\b\b\b\b\b\b\b\b\b\b\b\b\b\b\b\b\b\b\b\b\b\b\b\b\b\b\b\b\b\b\b\b\b\b\b\b\b\b\b\b\b\b\b\b\b\b\b\b\b\b\b\b\b\b\b\b\b\b\b\b\b\b\b\b\b\b\b\b\b\b\b\b\b\b\b\b\r346/346 [==============================] - 307s 886ms/step - loss: 0.1664 - binary_accuracy: 0.9394 - val_loss: 0.1466 - val_binary_accuracy: 0.9531\n",
            "Epoch 2/5\n",
            "346/346 [==============================] - 305s 882ms/step - loss: 0.1004 - binary_accuracy: 0.9614 - val_loss: 0.1380 - val_binary_accuracy: 0.9559\n",
            "Epoch 3/5\n",
            "346/346 [==============================] - 306s 884ms/step - loss: 0.0529 - binary_accuracy: 0.9813 - val_loss: 0.1988 - val_binary_accuracy: 0.9522\n",
            "Epoch 4/5\n",
            "346/346 [==============================] - 306s 884ms/step - loss: 0.0262 - binary_accuracy: 0.9908 - val_loss: 0.1890 - val_binary_accuracy: 0.9540\n",
            "Epoch 5/5\n",
            "346/346 [==============================] - 305s 882ms/step - loss: 0.0121 - binary_accuracy: 0.9961 - val_loss: 0.2291 - val_binary_accuracy: 0.9522\n"
          ],
          "name": "stdout"
        }
      ]
    },
    {
      "cell_type": "code",
      "metadata": {
        "colab": {
          "base_uri": "https://localhost:8080/",
          "height": 335
        },
        "id": "obWJSHDU1aUC",
        "outputId": "22b6bda0-6a34-443c-972d-82bffde53c7f"
      },
      "source": [
        "plt.figure(figsize=(16,5))\r\n",
        "plt.subplot(1,2,1)\r\n",
        "plt.plot(history_quora.history['binary_accuracy'], label='train accuracy')\r\n",
        "plt.plot(history_quora.history['val_binary_accuracy'], label='val accuracy')\r\n",
        "plt.xlabel(\"epoch\")\r\n",
        "plt.ylabel(\"accuracy\")\r\n",
        "plt.legend();\r\n",
        "\r\n",
        "plt.subplot(1,2,2)\r\n",
        "plt.plot(history_quora.history['loss'], label='loss')\r\n",
        "plt.plot(history_quora.history['val_loss'], label='val loss')\r\n",
        "plt.xlabel(\"epoch\")\r\n",
        "plt.ylabel(\"accuracy\")\r\n",
        "plt.legend();\r\n",
        "\r\n",
        "plt.show()"
      ],
      "execution_count": 32,
      "outputs": [
        {
          "output_type": "display_data",
          "data": {
            "image/png": "[encoded data removed]",
            "text/plain": [
              "<Figure size 1152x360 with 2 Axes>"
            ]
          },
          "metadata": {
            "tags": [],
            "needs_background": "light"
          }
        }
      ]
    },
    {
      "cell_type": "code",
      "metadata": {
        "id": "pwD0qtQB-078",
        "colab": {
          "base_uri": "https://localhost:8080/"
        },
        "outputId": "3f285b92-f808-43f8-f9ce-b061c873918c"
      },
      "source": [
        "sample_quora_questions = ['Dont mess with me otherwise, I will kill you?','What is the currency in Langkawi?','What plant can I grow indoors?']\r\n",
        "test_data = tf.data.Dataset.from_tensor_slices((sample_quora_questions,[0]*len(sample_quora_questions)))\r\n",
        "test_data = (test_data.map(to_feature_map).batch(1))\r\n",
        "prediction = model.predict(test_data)\r\n",
        "threshold = 0.5 #between 0 and 1\r\n",
        "['Quesition is Insincere' if pred>= threshold else 'Question is Sincere' for pred in prediction]"
      ],
      "execution_count": 100,
      "outputs": [
        {
          "output_type": "execute_result",
          "data": {
            "text/plain": [
              "['Quesition is Insincere', 'Question is Sincere', 'Question is Sincere']"
            ]
          },
          "metadata": {
            "tags": []
          },
          "execution_count": 100
        }
      ]
    },
    {
      "cell_type": "code",
      "metadata": {
        "colab": {
          "base_uri": "https://localhost:8080/"
        },
        "id": "NQkPiFtxCrrl",
        "outputId": "900ef0a9-a0c8-4496-b693-050daadb8e7a"
      },
      "source": [
        "### Predicting F1-Score\r\n",
        "from sklearn.metrics import confusion_matrix\r\n",
        "validation_question = quora_validation['question_text'].tolist()\r\n",
        "validation_target = quora_validation['target']\r\n",
        "testing = tf.data.Dataset.from_tensor_slices((validation_question,[0]*len(validation_question)))\r\n",
        "test_data = (testing.map(to_feature_map).batch(1))\r\n",
        "p1 = model.predict(test_data)\r\n",
        "prediction = (p1 > 0.5)\r\n",
        "\r\n",
        "print(\"Accuracy of the model : \", accuracy_score(prediction, validation_target))\r\n",
        "print('F1-score: ', f1_score(prediction,validation_target))\r\n",
        "print('Confusion matrix:')\r\n",
        "confusion_matrix(validation_target,prediction)"
      ],
      "execution_count": 102,
      "outputs": [
        {
          "output_type": "stream",
          "text": [
            "Accuracy of the model :  0.9518181818181818\n",
            "F1-score:  0.6490066225165563\n",
            "Confusion matrix:\n"
          ],
          "name": "stdout"
        },
        {
          "output_type": "execute_result",
          "data": {
            "text/plain": [
              "array([[998,  34],\n",
              "       [ 19,  49]])"
            ]
          },
          "metadata": {
            "tags": []
          },
          "execution_count": 102
        }
      ]
    },
    {
      "cell_type": "code",
      "metadata": {
        "id": "sPD29zlWYnZh"
      },
      "source": [
        "sample_quora_questions = test_df['question_text'].tolist()"
      ],
      "execution_count": 86,
      "outputs": []
    },
    {
      "cell_type": "code",
      "metadata": {
        "id": "jCKX_QYUwmpQ"
      },
      "source": [
        "# Now we apply the above same function on the test dataset consisting of sample 200 test questions"
      ],
      "execution_count": 79,
      "outputs": []
    },
    {
      "cell_type": "code",
      "metadata": {
        "id": "Z0LNXvGp7b2W"
      },
      "source": [
        "sample_quora_questions = sample_quora_questions[:200]\r\n",
        "test_data = tf.data.Dataset.from_tensor_slices((sample_quora_questions,[0]*len(sample_quora_questions)))\r\n",
        "test_data = (test_data.map(to_feature_map).batch(1))\r\n",
        "prediction = model.predict(test_data)\r\n",
        "threshold = 0.5 #between 0 and 1\r\n",
        "answers = ['Insincere' if pred>= threshold else 'Sincere' for pred in prediction]"
      ],
      "execution_count": 87,
      "outputs": []
    },
    {
      "cell_type": "code",
      "metadata": {
        "id": "DJlEddXpjCyz"
      },
      "source": [
        "sample_dict = {'Questions':sample_quora_questions, 'Target':answers}"
      ],
      "execution_count": 88,
      "outputs": []
    },
    {
      "cell_type": "code",
      "metadata": {
        "id": "YsUpsbxbsMqX"
      },
      "source": [
        "sample_df = pd.DataFrame(sample_dict)"
      ],
      "execution_count": 89,
      "outputs": []
    },
    {
      "cell_type": "code",
      "metadata": {
        "id": "ZCGQHidcsbAR"
      },
      "source": [
        "sample_df.to_csv(\"Sample BERT Submission\",index=False)"
      ],
      "execution_count": 93,
      "outputs": []
    },
    {
      "cell_type": "code",
      "metadata": {
        "id": "z78p8AeKtmVZ"
      },
      "source": [
        ""
      ],
      "execution_count": 102,
      "outputs": []
    },
    {
      "cell_type": "code",
      "metadata": {
        "id": "V_e1JtTvCgV0"
      },
      "source": [
        ""
      ],
      "execution_count": null,
      "outputs": []
    }
  ]
}