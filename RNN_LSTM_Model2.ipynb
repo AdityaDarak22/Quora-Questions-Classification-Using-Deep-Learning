{
  "nbformat": 4,
  "nbformat_minor": 0,
  "metadata": {
    "colab": {
      "name": "RNN LSTM.ipynb",
      "provenance": [],
      "collapsed_sections": []
    },
    "kernelspec": {
      "name": "python3",
      "display_name": "Python 3"
    },
    "accelerator": "GPU"
  },
  "cells": [
    {
      "cell_type": "code",
      "metadata": {
        "colab": {
          "base_uri": "https://localhost:8080/"
        },
        "id": "9eCz3WgWIaWx",
        "outputId": "64952aeb-b33b-448c-c6d3-7f8f4bc2313d"
      },
      "source": [
        "# IMPORTING THE LIBRARIES\n",
        "import numpy as np\n",
        "import pandas as pd\n",
        "import matplotlib.pyplot as plt\n",
        "\n",
        "\n",
        "# regex libraries\n",
        "import re\n",
        "\n",
        "# string libraries\n",
        "import string\n",
        "\n",
        "# nltk libraries\n",
        "import nltk\n",
        "from nltk.stem import WordNetLemmatizer\n",
        "nltk.download('wordnet')\n",
        "nltk.download('punkt')\n",
        "\n",
        "\n",
        "from wordcloud import WordCloud, STOPWORDS\n",
        "\n",
        "\n",
        "#sklearn libraries\n",
        "from sklearn.metrics import confusion_matrix, log_loss\n",
        "from sklearn.model_selection import train_test_split\n",
        "\n",
        "# tensorflow libraries\n",
        "from keras.layers import Embedding"
      ],
      "execution_count": 64,
      "outputs": [
        {
          "output_type": "stream",
          "text": [
            "[nltk_data] Downloading package wordnet to /root/nltk_data...\n",
            "[nltk_data]   Package wordnet is already up-to-date!\n",
            "[nltk_data] Downloading package punkt to /root/nltk_data...\n",
            "[nltk_data]   Package punkt is already up-to-date!\n"
          ],
          "name": "stdout"
        }
      ]
    },
    {
      "cell_type": "code",
      "metadata": {
        "colab": {
          "base_uri": "https://localhost:8080/"
        },
        "id": "yhUTsTUcI9cM",
        "outputId": "f2870e63-6a25-48b9-d08c-59f2bcd697b7"
      },
      "source": [
        "from google.colab import drive\n",
        "drive.mount('/content/drive/')\n"
      ],
      "execution_count": 2,
      "outputs": [
        {
          "output_type": "stream",
          "text": [
            "Mounted at /content/drive/\n"
          ],
          "name": "stdout"
        }
      ]
    },
    {
      "cell_type": "code",
      "metadata": {
        "id": "iw-GtNpKJHM-"
      },
      "source": [
        "train_df = pd.read_csv('/content/drive/My Drive/train.csv')\n",
        "test_df = pd.read_csv('/content/drive/My Drive/test.csv')"
      ],
      "execution_count": 3,
      "outputs": []
    },
    {
      "cell_type": "code",
      "metadata": {
        "colab": {
          "base_uri": "https://localhost:8080/"
        },
        "id": "2RX1WRKoJeO7",
        "outputId": "05950c66-3d10-4f20-e153-2380b9f75099"
      },
      "source": [
        "# Exploratory Data Analysis\n",
        "print(train_df.shape)"
      ],
      "execution_count": 4,
      "outputs": [
        {
          "output_type": "stream",
          "text": [
            "(1306122, 3)\n"
          ],
          "name": "stdout"
        }
      ]
    },
    {
      "cell_type": "code",
      "metadata": {
        "colab": {
          "base_uri": "https://localhost:8080/"
        },
        "id": "VWjmN-quJv-W",
        "outputId": "32da9d3c-08a2-44fb-be27-f8af12d1e7b6"
      },
      "source": [
        "print(test_df.shape)"
      ],
      "execution_count": 5,
      "outputs": [
        {
          "output_type": "stream",
          "text": [
            "(375806, 2)\n"
          ],
          "name": "stdout"
        }
      ]
    },
    {
      "cell_type": "code",
      "metadata": {
        "colab": {
          "base_uri": "https://localhost:8080/",
          "height": 210
        },
        "id": "HMI3PFDbJzea",
        "outputId": "f9533d73-c79c-4620-8fa5-6968b224095b"
      },
      "source": [
        "train_df.head()"
      ],
      "execution_count": 6,
      "outputs": [
        {
          "output_type": "execute_result",
          "data": {
            "text/html": [
              "<div>\n",
              "<style scoped>\n",
              "    .dataframe tbody tr th:only-of-type {\n",
              "        vertical-align: middle;\n",
              "    }\n",
              "\n",
              "    .dataframe tbody tr th {\n",
              "        vertical-align: top;\n",
              "    }\n",
              "\n",
              "    .dataframe thead th {\n",
              "        text-align: right;\n",
              "    }\n",
              "</style>\n",
              "<table border=\"1\" class=\"dataframe\">\n",
              "  <thead>\n",
              "    <tr style=\"text-align: right;\">\n",
              "      <th></th>\n",
              "      <th>qid</th>\n",
              "      <th>question_text</th>\n",
              "      <th>target</th>\n",
              "    </tr>\n",
              "  </thead>\n",
              "  <tbody>\n",
              "    <tr>\n",
              "      <th>0</th>\n",
              "      <td>00002165364db923c7e6</td>\n",
              "      <td>How did Quebec nationalists see their province...</td>\n",
              "      <td>0</td>\n",
              "    </tr>\n",
              "    <tr>\n",
              "      <th>1</th>\n",
              "      <td>000032939017120e6e44</td>\n",
              "      <td>Do you have an adopted dog, how would you enco...</td>\n",
              "      <td>0</td>\n",
              "    </tr>\n",
              "    <tr>\n",
              "      <th>2</th>\n",
              "      <td>0000412ca6e4628ce2cf</td>\n",
              "      <td>Why does velocity affect time? Does velocity a...</td>\n",
              "      <td>0</td>\n",
              "    </tr>\n",
              "    <tr>\n",
              "      <th>3</th>\n",
              "      <td>000042bf85aa498cd78e</td>\n",
              "      <td>How did Otto von Guericke used the Magdeburg h...</td>\n",
              "      <td>0</td>\n",
              "    </tr>\n",
              "    <tr>\n",
              "      <th>4</th>\n",
              "      <td>0000455dfa3e01eae3af</td>\n",
              "      <td>Can I convert montra helicon D to a mountain b...</td>\n",
              "      <td>0</td>\n",
              "    </tr>\n",
              "  </tbody>\n",
              "</table>\n",
              "</div>"
            ],
            "text/plain": [
              "                    qid  ... target\n",
              "0  00002165364db923c7e6  ...      0\n",
              "1  000032939017120e6e44  ...      0\n",
              "2  0000412ca6e4628ce2cf  ...      0\n",
              "3  000042bf85aa498cd78e  ...      0\n",
              "4  0000455dfa3e01eae3af  ...      0\n",
              "\n",
              "[5 rows x 3 columns]"
            ]
          },
          "metadata": {
            "tags": []
          },
          "execution_count": 6
        }
      ]
    },
    {
      "cell_type": "code",
      "metadata": {
        "colab": {
          "base_uri": "https://localhost:8080/",
          "height": 210
        },
        "id": "Rhcqn55kJ3y1",
        "outputId": "9fb8d1aa-b648-4d67-df91-9ea046ba75f8"
      },
      "source": [
        "test_df.head()"
      ],
      "execution_count": 7,
      "outputs": [
        {
          "output_type": "execute_result",
          "data": {
            "text/html": [
              "<div>\n",
              "<style scoped>\n",
              "    .dataframe tbody tr th:only-of-type {\n",
              "        vertical-align: middle;\n",
              "    }\n",
              "\n",
              "    .dataframe tbody tr th {\n",
              "        vertical-align: top;\n",
              "    }\n",
              "\n",
              "    .dataframe thead th {\n",
              "        text-align: right;\n",
              "    }\n",
              "</style>\n",
              "<table border=\"1\" class=\"dataframe\">\n",
              "  <thead>\n",
              "    <tr style=\"text-align: right;\">\n",
              "      <th></th>\n",
              "      <th>qid</th>\n",
              "      <th>question_text</th>\n",
              "    </tr>\n",
              "  </thead>\n",
              "  <tbody>\n",
              "    <tr>\n",
              "      <th>0</th>\n",
              "      <td>0000163e3ea7c7a74cd7</td>\n",
              "      <td>Why do so many women become so rude and arroga...</td>\n",
              "    </tr>\n",
              "    <tr>\n",
              "      <th>1</th>\n",
              "      <td>00002bd4fb5d505b9161</td>\n",
              "      <td>When should I apply for RV college of engineer...</td>\n",
              "    </tr>\n",
              "    <tr>\n",
              "      <th>2</th>\n",
              "      <td>00007756b4a147d2b0b3</td>\n",
              "      <td>What is it really like to be a nurse practitio...</td>\n",
              "    </tr>\n",
              "    <tr>\n",
              "      <th>3</th>\n",
              "      <td>000086e4b7e1c7146103</td>\n",
              "      <td>Who are entrepreneurs?</td>\n",
              "    </tr>\n",
              "    <tr>\n",
              "      <th>4</th>\n",
              "      <td>0000c4c3fbe8785a3090</td>\n",
              "      <td>Is education really making good people nowadays?</td>\n",
              "    </tr>\n",
              "  </tbody>\n",
              "</table>\n",
              "</div>"
            ],
            "text/plain": [
              "                    qid                                      question_text\n",
              "0  0000163e3ea7c7a74cd7  Why do so many women become so rude and arroga...\n",
              "1  00002bd4fb5d505b9161  When should I apply for RV college of engineer...\n",
              "2  00007756b4a147d2b0b3  What is it really like to be a nurse practitio...\n",
              "3  000086e4b7e1c7146103                             Who are entrepreneurs?\n",
              "4  0000c4c3fbe8785a3090   Is education really making good people nowadays?"
            ]
          },
          "metadata": {
            "tags": []
          },
          "execution_count": 7
        }
      ]
    },
    {
      "cell_type": "code",
      "metadata": {
        "colab": {
          "base_uri": "https://localhost:8080/"
        },
        "id": "KkIRBIWNJ5wr",
        "outputId": "6a00de79-0ccb-42a4-86fd-8727879d2b3a"
      },
      "source": [
        "# checking the information for the train dataset\n",
        "train_df.info()"
      ],
      "execution_count": 8,
      "outputs": [
        {
          "output_type": "stream",
          "text": [
            "<class 'pandas.core.frame.DataFrame'>\n",
            "RangeIndex: 1306122 entries, 0 to 1306121\n",
            "Data columns (total 3 columns):\n",
            " #   Column         Non-Null Count    Dtype \n",
            "---  ------         --------------    ----- \n",
            " 0   qid            1306122 non-null  object\n",
            " 1   question_text  1306122 non-null  object\n",
            " 2   target         1306122 non-null  int64 \n",
            "dtypes: int64(1), object(2)\n",
            "memory usage: 29.9+ MB\n"
          ],
          "name": "stdout"
        }
      ]
    },
    {
      "cell_type": "code",
      "metadata": {
        "colab": {
          "base_uri": "https://localhost:8080/"
        },
        "id": "1gkRX1tRKFhA",
        "outputId": "4c255450-3936-47bc-c968-7748a5c96a96"
      },
      "source": [
        "# checking the information for the test dataset\n",
        "test_df.info()"
      ],
      "execution_count": 9,
      "outputs": [
        {
          "output_type": "stream",
          "text": [
            "<class 'pandas.core.frame.DataFrame'>\n",
            "RangeIndex: 375806 entries, 0 to 375805\n",
            "Data columns (total 2 columns):\n",
            " #   Column         Non-Null Count   Dtype \n",
            "---  ------         --------------   ----- \n",
            " 0   qid            375806 non-null  object\n",
            " 1   question_text  375806 non-null  object\n",
            "dtypes: object(2)\n",
            "memory usage: 5.7+ MB\n"
          ],
          "name": "stdout"
        }
      ]
    },
    {
      "cell_type": "code",
      "metadata": {
        "colab": {
          "base_uri": "https://localhost:8080/"
        },
        "id": "JWtFkfJKKN2c",
        "outputId": "2d9d7975-aef9-4259-c4fa-6c92e0e8e8f9"
      },
      "source": [
        "# checking for the null values in the dataset\n",
        "train_df.isnull().sum()"
      ],
      "execution_count": 10,
      "outputs": [
        {
          "output_type": "execute_result",
          "data": {
            "text/plain": [
              "qid              0\n",
              "question_text    0\n",
              "target           0\n",
              "dtype: int64"
            ]
          },
          "metadata": {
            "tags": []
          },
          "execution_count": 10
        }
      ]
    },
    {
      "cell_type": "code",
      "metadata": {
        "colab": {
          "base_uri": "https://localhost:8080/"
        },
        "id": "RulWmEQpKV06",
        "outputId": "ccc07216-2f78-42cc-fbb0-b451ba45f2f7"
      },
      "source": [
        "test_df.isnull().sum()\n"
      ],
      "execution_count": 11,
      "outputs": [
        {
          "output_type": "execute_result",
          "data": {
            "text/plain": [
              "qid              0\n",
              "question_text    0\n",
              "dtype: int64"
            ]
          },
          "metadata": {
            "tags": []
          },
          "execution_count": 11
        }
      ]
    },
    {
      "cell_type": "code",
      "metadata": {
        "id": "qyvpzX0YKasK"
      },
      "source": [
        "# In the previous code where the base line model was created all the eda and feature extraction was done so in this code where\n",
        "# another model is applied that steps won't be performed. we will start directly with the data cleaning process. \n",
        "# Data Pre-processing \n",
        "# Removing Numbers\n",
        "# Removing HTML Tags\n",
        "# Cleaning contractions.\n",
        "# Spell Correction.\n",
        "# Removing punctuations.\n",
        "# Removing Stopwords.\n",
        "# Using WordNet Lemmatizer"
      ],
      "execution_count": 12,
      "outputs": []
    },
    {
      "cell_type": "code",
      "metadata": {
        "id": "irglFLdLK2mV"
      },
      "source": [
        "# Replacing numbers and html tags from the text\n",
        "from bs4 import BeautifulSoup\n",
        "def remove_html_tags(data):\n",
        "  return BeautifulSoup(data, 'html.parser').get_text()\n",
        "\n",
        "# creating a function to remove special characters or numbers from the text\n",
        "def remove_special_char(data):\n",
        "  pat = r'[^a-zA-z0-9.,!?/:;\\\"\\'\\s]'\n",
        "  return re.sub(pat, '', data)\n",
        "\n"
      ],
      "execution_count": 13,
      "outputs": []
    },
    {
      "cell_type": "code",
      "metadata": {
        "id": "b13cmLMRK4oL"
      },
      "source": [
        "# Punctuation removal\n",
        "def punct_removal(data):\n",
        "  data = ''.join([item for item in data if item not in string.punctuation])\n",
        "  return data\n",
        "# the above method will remove this punctuation from the code !\"#$%&'()*+,-./:;<=>?@[\\]^_`{|}~\n"
      ],
      "execution_count": 14,
      "outputs": []
    },
    {
      "cell_type": "code",
      "metadata": {
        "id": "7T7oiBfJK6H9"
      },
      "source": [
        "# Correcting the mispellings in the sentences\n",
        "mispellings = {'colour': 'color', 'centre': 'center', 'favourite': 'favorite', 'travelling': 'traveling', 'counselling': 'counseling', 'theatre': 'theater', 'cancelled': 'canceled', 'labour': 'labor', 'organisation': 'organization', 'wwii': 'world war 2', 'citicise': 'criticize', 'youtu ': 'youtube ', 'Qoura': 'Quora', 'sallary': 'salary', 'Whta': 'What', 'narcisist': 'narcissist', 'howdo': 'how do', 'whatare': 'what are', 'howcan': 'how can', 'howmuch': 'how much', 'howmany': 'how many', 'whydo': 'why do', 'doI': 'do I', 'theBest': 'the best', 'howdoes': 'how does', 'mastrubation': 'masturbation', 'mastrubate': 'masturbate', \"mastrubating\": 'masturbating', 'pennis': 'penis', 'Etherium': 'bitcoin', 'narcissit': 'narcissist', 'bigdata': 'big data', '2k17': '2017', '2k18': '2018', 'qouta': 'quota', 'exboyfriend': 'ex boyfriend', 'airhostess': 'air hostess', \"whst\": 'what', 'watsapp': 'whatsapp', 'demonitisation': 'demonetization', 'demonitization': 'demonetization', 'demonetisation': 'demonetization', \n",
        "                'electroneum':'bitcoin','nanodegree':'degree','hotstar':'star','dream11':'dream','ftre':'fire','tensorflow':'framework','unocoin':'bitcoin',\n",
        "                'lnmiit':'limit','unacademy':'academy','altcoin':'bitcoin','altcoins':'bitcoin','litecoin':'bitcoin','coinbase':'bitcoin','cryptocurency':'cryptocurrency',\n",
        "                'simpliv':'simple','quoras':'quora','schizoids':'psychopath','remainers':'remainder','twinflame':'soulmate','quorans':'quora','brexit':'demonetized',\n",
        "                'iiest':'institute','dceu':'comics','pessat':'exam','uceed':'college','bhakts':'devotee','boruto':'anime',\n",
        "                'cryptocoin':'bitcoin','blockchains':'blockchain','fiancee':'fiance','redmi':'smartphone','oneplus':'smartphone','qoura':'quora','deepmind':'framework','ryzen':'cpu','whattsapp':'whatsapp',\n",
        "                'undertale':'adventure','zenfone':'smartphone','cryptocurencies':'cryptocurrencies','koinex':'bitcoin','zebpay':'bitcoin','binance':'bitcoin','whtsapp':'whatsapp',\n",
        "                'reactjs':'framework','bittrex':'bitcoin','bitconnect':'bitcoin','bitfinex':'bitcoin','yourquote':'your quote','whyis':'why is','jiophone':'smartphone',\n",
        "                'dogecoin':'bitcoin','onecoin':'bitcoin','poloniex':'bitcoin','7700k':'cpu','angular2':'framework','segwit2x':'bitcoin','hashflare':'bitcoin','940mx':'gpu',\n",
        "                'openai':'framework','hashflare':'bitcoin','1050ti':'gpu','nearbuy':'near buy','freebitco':'bitcoin','antminer':'bitcoin','filecoin':'bitcoin','whatapp':'whatsapp',\n",
        "                'empowr':'empower','1080ti':'gpu','crytocurrency':'cryptocurrency','8700k':'cpu','whatsaap':'whatsapp','g4560':'cpu','payymoney':'pay money',\n",
        "                'fuckboys':'fuck boys','intenship':'internship','zcash':'bitcoin','demonatisation':'demonetization','narcicist':'narcissist','mastuburation':'masturbation',\n",
        "                'trignometric':'trigonometric','cryptocurreny':'cryptocurrency','howdid':'how did','crytocurrencies':'cryptocurrencies','phycopath':'psychopath',\n",
        "                'bytecoin':'bitcoin','possesiveness':'possessiveness','scollege':'college','humanties':'humanities','altacoin':'bitcoin','demonitised':'demonetized',\n",
        "                'brasília':'brazilia','accolite':'accolyte','econimics':'economics','varrier':'warrier','quroa':'quora','statergy':'strategy','langague':'language',\n",
        "                'splatoon':'game','7600k':'cpu','gate2018':'gate 2018','in2018':'in 2018','narcassist':'narcissist','jiocoin':'bitcoin','hnlu':'hulu','7300hq':'cpu',\n",
        "                'weatern':'western','interledger':'blockchain','deplation':'deflation', 'cryptocurrencies':'cryptocurrency', 'bitcoin':'blockchain cryptocurrency',}\n",
        "\n",
        "def correct_words(data):\n",
        "  words = data.split()\n",
        "  for i in range(0,len(words)):\n",
        "    if mispellings.get(words[i]) is not None:\n",
        "      words[i] = mispellings.get(words[i])\n",
        "    elif mispellings.get(words[i].lower()) is not None:\n",
        "      words[i] = mispellings.get(words[i].lower())\n",
        "\n",
        "  words = \" \".join(words)\n",
        "  return words"
      ],
      "execution_count": 15,
      "outputs": []
    },
    {
      "cell_type": "code",
      "metadata": {
        "id": "kIo0BwZsK8O3"
      },
      "source": [
        "# Stopwords Removal\n",
        "def stopword_removal(data):\n",
        "  data = [word for word in data.split() if word not in STOPWORDS]\n",
        "  data = ' '.join(data)\n",
        "  return data"
      ],
      "execution_count": 16,
      "outputs": []
    },
    {
      "cell_type": "code",
      "metadata": {
        "id": "TQXfVpe5K91E"
      },
      "source": [
        "# Contractions are nothing but shortened versions of words or syllables\n",
        "# there are functions for contraction removal \n",
        "# but we will be using our custom made dictionary which contains list of contraction \n",
        "contractions = {\"We'd\": \"We had\", \"That'd\": \"That had\", \"AREN'T\": \"Are not\", \"HADN'T\": \"Had not\", \"Could've\": \"Could have\", \n",
        "                       \"LeT's\": \"Let us\", \"How'll\": \"How will\", \"They'll\": \"They will\", \"DOESN'T\": \"Does not\", \"HE'S\": \"He has\", \n",
        "                       \"O'Clock\": \"Of the clock\", \"Who'll\": \"Who will\", \"What'S\": \"What is\", \"Ain't\": \"Am not\", \"WEREN'T\": \"Were not\", \n",
        "                       \"Y'all\": \"You all\", \"Y'ALL\": \"You all\", \"Here's\": \"Here is\", \"It'd\": \"It had\", \"Should've\": \"Should have\", \n",
        "                       \"I'M\": \"I am\", \"ISN'T\": \"Is not\", \"Would've\": \"Would have\", \"He'll\": \"He will\", \"DON'T\": \"Do not\", \"She'd\": \"She had\",\n",
        "                       \"WOULDN'T\": \"Would not\", \"She'll\": \"She will\", \"IT's\": \"It is\", \"There'd\": \"There had\", \"It'll\": \"It will\", \n",
        "                       \"You'll\": \"You will\", \"He'd\": \"He had\", \"What'll\": \"What will\", \"Ma'am\": \"Madam\", \"CAN'T\": \"Can not\",\n",
        "                       \"THAT'S\": \"That is\", \"You've\": \"You have\", \"She's\": \"She is\", \"Weren't\": \"Were not\", \"They've\": \"They have\", \n",
        "                       \"Couldn't\": \"Could not\", \"When's\": \"When is\", \"Haven't\": \"Have not\", \"We'll\": \"We will\", \"That's\": \"That is\",\n",
        "                       \"We're\": \"We are\", \"They're\": \"They' are\", \"You'd\": \"You would\", \"How'd\": \"How did\", \"What're\": \"What are\", \n",
        "                       \"Hasn't\": \"Has not\", \"Wasn't\": \"Was not\", \"Won't\": \"Will not\", \"There's\": \"There is\", \"Didn't\": \"Did not\", \n",
        "                       \"Doesn't\": \"Does not\", \"You're\": \"You are\", \"He's\": \"He is\", \"SO's\": \"So is\", \"We've\": \"We have\", \"Who's\": \"Who is\", \n",
        "                       \"Wouldn't\": \"Would not\", \"Why's\": \"Why is\", \"WHO's\": \"Who is\", \"Let's\": \"Let us\", \"How's\": \"How is\", \n",
        "                       \"Can't\": \"Can not\", \"Where's\": \"Where is\", \"They'd\": \"They had\", \"Don't\": \"Do not\", \"Shouldn't\":\"Should not\", \n",
        "                       \"Aren't\":\"Are not\", \"ain't\": \"is not\", \"What's\": \"What is\", \"It's\": \"It is\", \"Isn't\":\"Is not\", \"aren't\": \"are not\",\n",
        "                       \"can't\": \"cannot\", \"'cause\": \"because\", \"could've\": \"could have\", \"couldn't\": \"could not\", \"didn't\": \"did not\",  \n",
        "                       \"doesn't\": \"does not\", \"don't\": \"do not\", \"hadn't\": \"had not\", \"hasn't\": \"has not\", \"haven't\": \"have not\", \n",
        "                       \"he'd\": \"he would\",\"he'll\": \"he will\", \"he's\": \"he is\", \"how'd\": \"how did\", \"how'd'y\": \"how do you\", \n",
        "                       \"how'll\": \"how will\", \"how's\": \"how is\",  \"I'd\": \"I would\", \"I'd've\": \"I would have\", \"I'll\": \"I will\", \n",
        "                       \"I'll've\": \"I will have\",\"I'm\": \"I am\", \"I've\": \"I have\", \"i'd\": \"i would\", \"i'd've\": \"i would have\",\n",
        "                       \"i'll\": \"i will\",  \"i'll've\": \"i will have\",\"i'm\": \"i am\", \"i've\": \"i have\", \"isn't\": \"is not\", \"it'd\": \"it would\",\n",
        "                       \"it'd've\": \"it would have\", \"it'll\": \"it will\", \"it'll've\": \"it will have\",\"it's\": \"it is\", \"let's\": \"let us\", \n",
        "                       \"ma'am\": \"madam\", \"mayn't\": \"may not\", \"might've\": \"might have\",\"mightn't\": \"might not\",\n",
        "                       \"mightn't've\": \"might not have\", \"must've\": \"must have\", \"mustn't\": \"must not\", \"mustn't've\": \"must not have\", \n",
        "                       \"needn't\": \"need not\", \"needn't've\": \"need not have\",\"o'clock\": \"of the clock\", \"oughtn't\": \"ought not\", \n",
        "                       \"oughtn't've\": \"ought not have\", \"shan't\": \"shall not\", \"sha'n't\": \"shall not\", \"shan't've\": \"shall not have\", \n",
        "                       \"she'd\": \"she would\", \"she'd've\": \"she would have\", \"she'll\": \"she will\", \"she'll've\": \"she will have\", \n",
        "                       \"she's\": \"she is\", \"should've\": \"should have\", \"shouldn't\": \"should not\", \"shouldn't've\": \"should not have\", \n",
        "                       \"so've\": \"so have\",\"so's\": \"so as\", \"this's\": \"this is\",\"that'd\": \"that would\", \"that'd've\": \"that would have\", \n",
        "                       \"that's\": \"that is\", \"there'd\": \"there would\", \"there'd've\": \"there would have\", \"there's\": \"there is\", \n",
        "                       \"here's\": \"here is\",\"they'd\": \"they would\", \"they'd've\": \"they would have\", \"they'll\": \"they will\", \n",
        "                       \"they'll've\": \"they will have\", \"they're\": \"they are\", \"they've\": \"they have\", \"to've\": \"to have\", \n",
        "                       \"wasn't\": \"was not\", \"we'd\": \"we would\", \"we'd've\": \"we would have\", \"we'll\": \"we will\", \n",
        "                       \"we'll've\": \"we will have\", \"we're\": \"we are\", \"we've\": \"we have\", \"weren't\": \"were not\", \"what'll\": \"what will\",\n",
        "                       \"what'll've\": \"what will have\", \"what're\": \"what are\",  \"what's\": \"what is\", \"what've\": \"what have\", \n",
        "                       \"when's\": \"when is\", \"when've\": \"when have\", \"where'd\": \"where did\", \"where's\": \"where is\", \n",
        "                       \"where've\": \"where have\", \"who'll\": \"who will\", \"who'll've\": \"who will have\", \"who's\": \"who is\", \n",
        "                       \"who've\": \"who have\", \"why's\": \"why is\", \"why've\": \"why have\", \"will've\": \"will have\", \"won't\": \"will not\", \n",
        "                       \"won't've\": \"will not have\", \"would've\": \"would have\", \"wouldn't\": \"would not\", \"wouldn't've\": \"would not have\", \n",
        "                       \"y'all\": \"you all\", \"y'all'd\": \"you all would\",\"y'all'd've\": \"you all would have\",\"y'all're\": \"you all are\",\n",
        "                       \"y'all've\": \"you all have\",\"you'd\": \"you would\", \"you'd've\": \"you would have\", \"you'll\": \"you will\", \n",
        "                       \"you'll've\": \"you will have\", \"you're\": \"you are\", \"you've\": \"you have\" }\n",
        "\n",
        "def clean_contractions(text):\n",
        "    specials = [\"’\", \"‘\", \"´\", \"`\"]\n",
        "    for s in specials:\n",
        "        text = text.replace(s, \"'\")\n",
        "    \n",
        "    text = ' '.join([contractions[t] if t in contractions else t for t in text.split(\" \")])\n",
        "    return text"
      ],
      "execution_count": 17,
      "outputs": []
    },
    {
      "cell_type": "code",
      "metadata": {
        "id": "WJUhcXTaK_Kr"
      },
      "source": [
        "#Converting the text into lower case\n",
        "def text_lower(data):\n",
        "  return data.lower()"
      ],
      "execution_count": 18,
      "outputs": []
    },
    {
      "cell_type": "code",
      "metadata": {
        "id": "bttO9z6fLAqE"
      },
      "source": [
        "#Lemmatization : it is used to generate the root of the word\n",
        "lemmatizer = WordNetLemmatizer()\n",
        "def lemma(data):\n",
        "  data = data.split()\n",
        "  data = [lemmatizer.lemmatize(word) for word in data]\n",
        "  data = ' '.join(data)\n",
        "  return data"
      ],
      "execution_count": 19,
      "outputs": []
    },
    {
      "cell_type": "code",
      "metadata": {
        "id": "3vsfWV77LDrh"
      },
      "source": [
        "def text_cleaning(data):\n",
        "  data = remove_html_tags(data)\n",
        "  data = remove_special_char(data)\n",
        "  data = punct_removal(data)\n",
        "  data = correct_words(data)\n",
        "  data = stopword_removal(data)\n",
        "  data = clean_contractions(data)\n",
        "  data = text_lower(data)\n",
        "  data = lemma(data)\n",
        "  return data"
      ],
      "execution_count": 20,
      "outputs": []
    },
    {
      "cell_type": "code",
      "metadata": {
        "colab": {
          "base_uri": "https://localhost:8080/"
        },
        "id": "NECQ5lj4MAxQ",
        "outputId": "63557af4-106a-4894-de3f-ffb70a37be4e"
      },
      "source": [
        "# preprocessing train and test data\n",
        "%%time\n",
        "train_df['clean_train_text'] = train_df['question_text'].apply(lambda data: text_cleaning(data))\n",
        "test_df['clean_test_text'] = test_df['question_text'].apply(lambda data: text_cleaning(data))"
      ],
      "execution_count": 21,
      "outputs": [
        {
          "output_type": "stream",
          "text": [
            "CPU times: user 3min 1s, sys: 15.4 s, total: 3min 16s\n",
            "Wall time: 3min 16s\n"
          ],
          "name": "stdout"
        }
      ]
    },
    {
      "cell_type": "code",
      "metadata": {
        "colab": {
          "base_uri": "https://localhost:8080/",
          "height": 282
        },
        "id": "CZ8f9lZkMCo3",
        "outputId": "ab525bb3-0cea-498c-ee78-988f6dc85fcb"
      },
      "source": [
        "train_df.head()"
      ],
      "execution_count": 22,
      "outputs": [
        {
          "output_type": "execute_result",
          "data": {
            "text/html": [
              "<div>\n",
              "<style scoped>\n",
              "    .dataframe tbody tr th:only-of-type {\n",
              "        vertical-align: middle;\n",
              "    }\n",
              "\n",
              "    .dataframe tbody tr th {\n",
              "        vertical-align: top;\n",
              "    }\n",
              "\n",
              "    .dataframe thead th {\n",
              "        text-align: right;\n",
              "    }\n",
              "</style>\n",
              "<table border=\"1\" class=\"dataframe\">\n",
              "  <thead>\n",
              "    <tr style=\"text-align: right;\">\n",
              "      <th></th>\n",
              "      <th>qid</th>\n",
              "      <th>question_text</th>\n",
              "      <th>target</th>\n",
              "      <th>clean_train_text</th>\n",
              "    </tr>\n",
              "  </thead>\n",
              "  <tbody>\n",
              "    <tr>\n",
              "      <th>0</th>\n",
              "      <td>00002165364db923c7e6</td>\n",
              "      <td>How did Quebec nationalists see their province...</td>\n",
              "      <td>0</td>\n",
              "      <td>how quebec nationalist see province nation 1960s</td>\n",
              "    </tr>\n",
              "    <tr>\n",
              "      <th>1</th>\n",
              "      <td>000032939017120e6e44</td>\n",
              "      <td>Do you have an adopted dog, how would you enco...</td>\n",
              "      <td>0</td>\n",
              "      <td>do adopted dog encourage people adopt shop</td>\n",
              "    </tr>\n",
              "    <tr>\n",
              "      <th>2</th>\n",
              "      <td>0000412ca6e4628ce2cf</td>\n",
              "      <td>Why does velocity affect time? Does velocity a...</td>\n",
              "      <td>0</td>\n",
              "      <td>why velocity affect time doe velocity affect s...</td>\n",
              "    </tr>\n",
              "    <tr>\n",
              "      <th>3</th>\n",
              "      <td>000042bf85aa498cd78e</td>\n",
              "      <td>How did Otto von Guericke used the Magdeburg h...</td>\n",
              "      <td>0</td>\n",
              "      <td>how otto von guericke used magdeburg hemisphere</td>\n",
              "    </tr>\n",
              "    <tr>\n",
              "      <th>4</th>\n",
              "      <td>0000455dfa3e01eae3af</td>\n",
              "      <td>Can I convert montra helicon D to a mountain b...</td>\n",
              "      <td>0</td>\n",
              "      <td>can i convert montra helicon d mountain bike c...</td>\n",
              "    </tr>\n",
              "  </tbody>\n",
              "</table>\n",
              "</div>"
            ],
            "text/plain": [
              "                    qid  ...                                   clean_train_text\n",
              "0  00002165364db923c7e6  ...   how quebec nationalist see province nation 1960s\n",
              "1  000032939017120e6e44  ...         do adopted dog encourage people adopt shop\n",
              "2  0000412ca6e4628ce2cf  ...  why velocity affect time doe velocity affect s...\n",
              "3  000042bf85aa498cd78e  ...    how otto von guericke used magdeburg hemisphere\n",
              "4  0000455dfa3e01eae3af  ...  can i convert montra helicon d mountain bike c...\n",
              "\n",
              "[5 rows x 4 columns]"
            ]
          },
          "metadata": {
            "tags": []
          },
          "execution_count": 22
        }
      ]
    },
    {
      "cell_type": "code",
      "metadata": {
        "colab": {
          "base_uri": "https://localhost:8080/",
          "height": 210
        },
        "id": "xTvQjjLaN1TK",
        "outputId": "e3c6d94b-f053-425b-a618-e05bb99618f3"
      },
      "source": [
        "test_df.head()"
      ],
      "execution_count": 23,
      "outputs": [
        {
          "output_type": "execute_result",
          "data": {
            "text/html": [
              "<div>\n",
              "<style scoped>\n",
              "    .dataframe tbody tr th:only-of-type {\n",
              "        vertical-align: middle;\n",
              "    }\n",
              "\n",
              "    .dataframe tbody tr th {\n",
              "        vertical-align: top;\n",
              "    }\n",
              "\n",
              "    .dataframe thead th {\n",
              "        text-align: right;\n",
              "    }\n",
              "</style>\n",
              "<table border=\"1\" class=\"dataframe\">\n",
              "  <thead>\n",
              "    <tr style=\"text-align: right;\">\n",
              "      <th></th>\n",
              "      <th>qid</th>\n",
              "      <th>question_text</th>\n",
              "      <th>clean_test_text</th>\n",
              "    </tr>\n",
              "  </thead>\n",
              "  <tbody>\n",
              "    <tr>\n",
              "      <th>0</th>\n",
              "      <td>0000163e3ea7c7a74cd7</td>\n",
              "      <td>Why do so many women become so rude and arroga...</td>\n",
              "      <td>why many woman become rude arrogant little bit...</td>\n",
              "    </tr>\n",
              "    <tr>\n",
              "      <th>1</th>\n",
              "      <td>00002bd4fb5d505b9161</td>\n",
              "      <td>When should I apply for RV college of engineer...</td>\n",
              "      <td>when i apply rv college engineering bm college...</td>\n",
              "    </tr>\n",
              "    <tr>\n",
              "      <th>2</th>\n",
              "      <td>00007756b4a147d2b0b3</td>\n",
              "      <td>What is it really like to be a nurse practitio...</td>\n",
              "      <td>what really nurse practitioner</td>\n",
              "    </tr>\n",
              "    <tr>\n",
              "      <th>3</th>\n",
              "      <td>000086e4b7e1c7146103</td>\n",
              "      <td>Who are entrepreneurs?</td>\n",
              "      <td>who entrepreneur</td>\n",
              "    </tr>\n",
              "    <tr>\n",
              "      <th>4</th>\n",
              "      <td>0000c4c3fbe8785a3090</td>\n",
              "      <td>Is education really making good people nowadays?</td>\n",
              "      <td>is education really making good people nowadays</td>\n",
              "    </tr>\n",
              "  </tbody>\n",
              "</table>\n",
              "</div>"
            ],
            "text/plain": [
              "                    qid  ...                                    clean_test_text\n",
              "0  0000163e3ea7c7a74cd7  ...  why many woman become rude arrogant little bit...\n",
              "1  00002bd4fb5d505b9161  ...  when i apply rv college engineering bm college...\n",
              "2  00007756b4a147d2b0b3  ...                     what really nurse practitioner\n",
              "3  000086e4b7e1c7146103  ...                                   who entrepreneur\n",
              "4  0000c4c3fbe8785a3090  ...    is education really making good people nowadays\n",
              "\n",
              "[5 rows x 3 columns]"
            ]
          },
          "metadata": {
            "tags": []
          },
          "execution_count": 23
        }
      ]
    },
    {
      "cell_type": "code",
      "metadata": {
        "colab": {
          "base_uri": "https://localhost:8080/"
        },
        "id": "JAW9kZHvfsds",
        "outputId": "bbbc7fcb-00a8-4006-ba10-ce3badc18b2a"
      },
      "source": [
        "# Zipping GloVe Embedding for the word embedding as a model\n",
        "!wget 'http://nlp.stanford.edu/data/glove.840B.300d.zip'\n",
        "!unzip '/content/glove.840B.300d.zip'"
      ],
      "execution_count": 27,
      "outputs": [
        {
          "output_type": "stream",
          "text": [
            "--2020-12-07 15:48:17--  http://nlp.stanford.edu/data/glove.840B.300d.zip\n",
            "Resolving nlp.stanford.edu (nlp.stanford.edu)... 171.64.67.140\n",
            "Connecting to nlp.stanford.edu (nlp.stanford.edu)|171.64.67.140|:80... connected.\n",
            "HTTP request sent, awaiting response... 302 Found\n",
            "Location: https://nlp.stanford.edu/data/glove.840B.300d.zip [following]\n",
            "--2020-12-07 15:48:17--  https://nlp.stanford.edu/data/glove.840B.300d.zip\n",
            "Connecting to nlp.stanford.edu (nlp.stanford.edu)|171.64.67.140|:443... connected.\n",
            "HTTP request sent, awaiting response... 301 Moved Permanently\n",
            "Location: http://downloads.cs.stanford.edu/nlp/data/glove.840B.300d.zip [following]\n",
            "--2020-12-07 15:48:17--  http://downloads.cs.stanford.edu/nlp/data/glove.840B.300d.zip\n",
            "Resolving downloads.cs.stanford.edu (downloads.cs.stanford.edu)... 171.64.64.22\n",
            "Connecting to downloads.cs.stanford.edu (downloads.cs.stanford.edu)|171.64.64.22|:80... connected.\n",
            "HTTP request sent, awaiting response... 200 OK\n",
            "Length: 2176768927 (2.0G) [application/zip]\n",
            "Saving to: ‘glove.840B.300d.zip’\n",
            "\n",
            "glove.840B.300d.zip 100%[===================>]   2.03G  1.94MB/s    in 16m 56s \n",
            "\n",
            "2020-12-07 16:05:14 (2.04 MB/s) - ‘glove.840B.300d.zip’ saved [2176768927/2176768927]\n",
            "\n",
            "Archive:  /content/glove.840B.300d.zip\n",
            "  inflating: glove.840B.300d.txt     \n"
          ],
          "name": "stdout"
        }
      ]
    },
    {
      "cell_type": "code",
      "metadata": {
        "id": "V6orrTqYlU_X"
      },
      "source": [
        "# Splitting the training data set into Train and Test Set for evaluating the performance of the model.\n",
        "from sklearn.model_selection import train_test_split\n",
        "train, test = train_test_split(train_df,test_size = 0.2, random_state = 42 )"
      ],
      "execution_count": 24,
      "outputs": []
    },
    {
      "cell_type": "code",
      "metadata": {
        "id": "uFNR46-MljgJ"
      },
      "source": [
        "from keras.preprocessing.text import Tokenizer\n",
        "from keras.preprocessing.sequence import pad_sequences\n",
        "\n",
        "top_words = 6000\n",
        "tokenizer = Tokenizer(num_words=top_words)\n",
        "tokenizer.fit_on_texts(list(train['clean_train_text'])+list(test['clean_train_text']))\n",
        "tokenized_train = tokenizer.texts_to_sequences(train['clean_train_text'])\n",
        "\n",
        "word_index = tokenizer.word_index\n",
        "# tokenized_train_test = tokenizer.texts_to_sequences(test['clean_train_text']) # X_test\n",
        "\n",
        "# tokenized_test = tokenizer.texts_to_sequences(test_df['clean_test_text'])\n",
        "\n",
        "\n",
        "#padding converts the integer array of variable length into fixed length either by truncating the maxlength or padding\n",
        "max_text_length = 130\n",
        "X_train = pad_sequences(tokenized_train, maxlen=max_text_length) #tokenized_train = X_train\n",
        "y_train = train['target'] # train['target'] = y_train\n",
        "\n",
        "\n",
        "# test_text = pad_sequences(tokenized_test,maxlen = max_text_length)"
      ],
      "execution_count": 26,
      "outputs": []
    },
    {
      "cell_type": "code",
      "metadata": {
        "colab": {
          "base_uri": "https://localhost:8080/"
        },
        "id": "l86kHUvomkZB",
        "outputId": "fcd1ce1a-34ba-4b83-a11b-48d6c1649efc"
      },
      "source": [
        "type(word_index)"
      ],
      "execution_count": 37,
      "outputs": [
        {
          "output_type": "execute_result",
          "data": {
            "text/plain": [
              "dict"
            ]
          },
          "metadata": {
            "tags": []
          },
          "execution_count": 37
        }
      ]
    },
    {
      "cell_type": "markdown",
      "metadata": {
        "id": "HPjE3L_SfmfB"
      },
      "source": [
        "Glove Stands for Global Vectors"
      ]
    },
    {
      "cell_type": "code",
      "metadata": {
        "colab": {
          "base_uri": "https://localhost:8080/"
        },
        "id": "ngrA90ANN4Un",
        "outputId": "41c0f8b9-6596-4226-8729-fb5c9d09b0fc"
      },
      "source": [
        "# # preparing the embedding layer by applying Glove Embedding\n",
        "embeddings_index_glove= {}\n",
        "\n",
        "f = open('/content/glove.840B.300d.txt',encoding='utf-8')\n",
        "for line in f:\n",
        "  values = line.rsplit(' ')\n",
        "  word = values[0]\n",
        "  coeff = np.asarray(values[1:],dtype='float32')\n",
        "  embeddings_index_glove[word] = coeff\n",
        "f.close()\n",
        "\n",
        "print('Found %s word vectors.' %len(embeddings_index_glove))\n",
        "\n",
        "# embedding_file = '/content/glove.840B.300d.txt'"
      ],
      "execution_count": 28,
      "outputs": [
        {
          "output_type": "stream",
          "text": [
            "Found 2196016 word vectors.\n"
          ],
          "name": "stdout"
        }
      ]
    },
    {
      "cell_type": "code",
      "metadata": {
        "id": "Tke3BTBIRjYc"
      },
      "source": [
        "# we can use embedding index and word index to create a embedding matrix\n",
        "embedding_dim_glove = 300\n",
        "embedding_matrix_glove = np.zeros((len(word_index) + 1, embedding_dim_glove))\n",
        "for word , i in word_index.items():\n",
        "  embedding_vector_glove = embeddings_index_glove.get(word)\n",
        "  if embedding_vector_glove is not None:     # words not found in embedding index will be all-zeros.\n",
        "    embedding_matrix_glove[i] = embedding_vector_glove\n",
        "    "
      ],
      "execution_count": 29,
      "outputs": []
    },
    {
      "cell_type": "code",
      "metadata": {
        "id": "biMBLuq_poxc"
      },
      "source": [
        "# We load this embedding matrix into an Embedding layer. \n",
        "# we set trainable=False to prevent the weights from being updated during training. \n",
        "# Previously we used the default Embedding layer, withtrainable=True ,\n",
        "# which learned the Embeddings through the training process.\n",
        "\n",
        "glove_emb_layer = Embedding(len(word_index)+1,\n",
        "                            embedding_dim_glove,\n",
        "                            weights= [embedding_matrix_glove],\n",
        "                            input_length = max_text_length,\n",
        "                            trainable = False)"
      ],
      "execution_count": 30,
      "outputs": []
    },
    {
      "cell_type": "code",
      "metadata": {
        "id": "13WjY37Rprze"
      },
      "source": [
        "# Applying a RNN-LSTM Model. we will be stacking two Bidirectional LSTM Layers\n",
        "from keras.models import Sequential\n",
        "from keras.layers.recurrent import LSTM\n",
        "from keras.layers.core import Dense, Activation, Dropout\n",
        "import tensorflow as tf\n",
        "from keras.layers import Bidirectional, SpatialDropout1D\n",
        "# Generally, we use softmax activation instead of sigmoid with the cross-entropy loss \n",
        "# because softmax activation distributes the probability throughout each output node.\n",
        "# But, since it is a binary classification, using sigmoid is same as softmax. \n"
      ],
      "execution_count": 42,
      "outputs": []
    },
    {
      "cell_type": "code",
      "metadata": {
        "colab": {
          "base_uri": "https://localhost:8080/"
        },
        "id": "PMH356hW-uPP",
        "outputId": "7c3cee71-0e11-4050-d8d8-768b65b94c87"
      },
      "source": [
        "quora_model_with_glove = Sequential()\n",
        "quora_model_with_glove.add(glove_emb_layer)\n",
        "quora_model_with_glove.add(Bidirectional(LSTM(64,return_sequences=True)))\n",
        "quora_model_with_glove.add(Bidirectional(LSTM(32)))\n",
        "quora_model_with_glove.add(Dense(64, activation='relu'))\n",
        "quora_model_with_glove.add(Dropout(0.5))\n",
        "quora_model_with_glove.add(Dense(1, activation='sigmoid'))\n",
        "\n",
        "quora_model_with_glove.compile(loss='binary_crossentropy',optimizer ='adam',metrics =['accuracy'])\n",
        "\n",
        "print(quora_model_with_glove.summary())\n"
      ],
      "execution_count": 61,
      "outputs": [
        {
          "output_type": "stream",
          "text": [
            "Model: \"sequential_12\"\n",
            "_________________________________________________________________\n",
            "Layer (type)                 Output Shape              Param #   \n",
            "=================================================================\n",
            "embedding (Embedding)        (None, 130, 300)          69792300  \n",
            "_________________________________________________________________\n",
            "bidirectional_21 (Bidirectio (None, 130, 128)          186880    \n",
            "_________________________________________________________________\n",
            "bidirectional_22 (Bidirectio (None, 64)                41216     \n",
            "_________________________________________________________________\n",
            "dense_19 (Dense)             (None, 64)                4160      \n",
            "_________________________________________________________________\n",
            "dropout_9 (Dropout)          (None, 64)                0         \n",
            "_________________________________________________________________\n",
            "dense_20 (Dense)             (None, 1)                 65        \n",
            "=================================================================\n",
            "Total params: 70,024,621\n",
            "Trainable params: 232,321\n",
            "Non-trainable params: 69,792,300\n",
            "_________________________________________________________________\n",
            "None\n"
          ],
          "name": "stdout"
        }
      ]
    },
    {
      "cell_type": "code",
      "metadata": {
        "colab": {
          "base_uri": "https://localhost:8080/"
        },
        "id": "N8KPXitkCXOV",
        "outputId": "11749dcb-2eb7-4f62-f92f-b06268ac629b"
      },
      "source": [
        "model_with_glove_emd = quora_model_with_glove.fit(X_train,y_train,epochs=10, batch_size=256,validation_split=0.2)"
      ],
      "execution_count": 62,
      "outputs": [
        {
          "output_type": "stream",
          "text": [
            "Epoch 1/10\n",
            "3266/3266 [==============================] - 170s 52ms/step - loss: 0.1300 - accuracy: 0.9511 - val_loss: 0.1203 - val_accuracy: 0.9523\n",
            "Epoch 2/10\n",
            "3266/3266 [==============================] - 168s 51ms/step - loss: 0.1164 - accuracy: 0.9554 - val_loss: 0.1163 - val_accuracy: 0.9550\n",
            "Epoch 3/10\n",
            "3266/3266 [==============================] - 167s 51ms/step - loss: 0.1108 - accuracy: 0.9571 - val_loss: 0.1154 - val_accuracy: 0.9555\n",
            "Epoch 4/10\n",
            "3266/3266 [==============================] - 167s 51ms/step - loss: 0.1056 - accuracy: 0.9586 - val_loss: 0.1150 - val_accuracy: 0.9556\n",
            "Epoch 5/10\n",
            "3266/3266 [==============================] - 167s 51ms/step - loss: 0.1006 - accuracy: 0.9604 - val_loss: 0.1158 - val_accuracy: 0.9555\n",
            "Epoch 6/10\n",
            "3266/3266 [==============================] - 168s 51ms/step - loss: 0.0952 - accuracy: 0.9619 - val_loss: 0.1218 - val_accuracy: 0.9527\n",
            "Epoch 7/10\n",
            "3266/3266 [==============================] - 170s 52ms/step - loss: 0.0898 - accuracy: 0.9639 - val_loss: 0.1230 - val_accuracy: 0.9530\n",
            "Epoch 8/10\n",
            "3266/3266 [==============================] - 171s 52ms/step - loss: 0.0835 - accuracy: 0.9660 - val_loss: 0.1304 - val_accuracy: 0.9536\n",
            "Epoch 9/10\n",
            "3266/3266 [==============================] - 171s 52ms/step - loss: 0.0777 - accuracy: 0.9684 - val_loss: 0.1429 - val_accuracy: 0.9523\n",
            "Epoch 10/10\n",
            "3266/3266 [==============================] - 170s 52ms/step - loss: 0.0722 - accuracy: 0.9705 - val_loss: 0.1487 - val_accuracy: 0.9506\n"
          ],
          "name": "stdout"
        }
      ]
    },
    {
      "cell_type": "code",
      "metadata": {
        "colab": {
          "base_uri": "https://localhost:8080/",
          "height": 380
        },
        "id": "c-aJm4MODUeH",
        "outputId": "6ae49ed2-dcc2-47e5-ccd4-cb3931bc0680"
      },
      "source": [
        "plt.figure(figsize=(16,6))\n",
        "plt.subplot(1,2,1)\n",
        "plt.plot(model_with_glove_emd.history['accuracy'], label='train accuracy')\n",
        "plt.plot(model_with_glove_emd.history['val_accuracy'], label='val accuracy')\n",
        "plt.xlabel(\"epoch\")\n",
        "plt.ylabel(\"accuracy\")\n",
        "plt.legend();\n",
        "\n",
        "plt.subplot(1,2,2)\n",
        "plt.plot(model_with_glove_emd.history['loss'], label='loss')\n",
        "plt.plot(model_with_glove_emd.history['val_loss'], label='val loss')\n",
        "plt.xlabel(\"epoch\")\n",
        "plt.ylabel(\"accuracy\")\n",
        "plt.legend();\n",
        "\n",
        "plt.show()"
      ],
      "execution_count": 67,
      "outputs": [
        {
          "output_type": "display_data",
          "data": {
            "image/png": "[encoded data removed]",
            "text/plain": [
              "<Figure size 1152x432 with 2 Axes>"
            ]
          },
          "metadata": {
            "tags": [],
            "needs_background": "light"
          }
        }
      ]
    },
    {
      "cell_type": "code",
      "metadata": {
        "colab": {
          "base_uri": "https://localhost:8080/"
        },
        "id": "5uaCjf7EZdnN",
        "outputId": "88aa8f69-ece0-4706-f875-5290ef387218"
      },
      "source": [
        "# predicting train_test result\n",
        "%%time\n",
        "tokenized_train_test = tokenizer.texts_to_sequences(test['clean_train_text']) # X_test\n",
        "X_test = pad_sequences(tokenized_train_test, maxlen=max_text_length)\n",
        "y_test = test['target']\n",
        "prediction_train_test = quora_model_with_glove.predict_classes(X_test)"
      ],
      "execution_count": 68,
      "outputs": [
        {
          "output_type": "stream",
          "text": [
            "WARNING:tensorflow:From <timed exec>:4: Sequential.predict_classes (from tensorflow.python.keras.engine.sequential) is deprecated and will be removed after 2021-01-01.\n",
            "Instructions for updating:\n",
            "Please use instead:* `np.argmax(model.predict(x), axis=-1)`,   if your model does multi-class classification   (e.g. if it uses a `softmax` last-layer activation).* `(model.predict(x) > 0.5).astype(\"int32\")`,   if your model does binary classification   (e.g. if it uses a `sigmoid` last-layer activation).\n",
            "CPU times: user 1min 39s, sys: 5.94 s, total: 1min 45s\n",
            "Wall time: 1min 31s\n"
          ],
          "name": "stdout"
        }
      ]
    },
    {
      "cell_type": "code",
      "metadata": {
        "colab": {
          "base_uri": "https://localhost:8080/"
        },
        "id": "0Y9KHv0XadKc",
        "outputId": "a53e6a8c-0e28-457a-cc79-6ce1ad600426"
      },
      "source": [
        "from sklearn.metrics import accuracy_score, f1_score\n",
        "print(\"Accuracy of the model : \", accuracy_score(prediction_train_test, y_test))\n",
        "print('F1-score: ', f1_score(prediction_train_test, y_test))\n",
        "print('Confusion matrix:')\n",
        "confusion_matrix(y_test,prediction_train_test)"
      ],
      "execution_count": 69,
      "outputs": [
        {
          "output_type": "stream",
          "text": [
            "Accuracy of the model :  0.9529332950521581\n",
            "F1-score:  0.5944252020451922\n",
            "Confusion matrix:\n"
          ],
          "name": "stdout"
        },
        {
          "output_type": "execute_result",
          "data": {
            "text/plain": [
              "array([[239920,   5449],\n",
              "       [  6846,   9010]])"
            ]
          },
          "metadata": {
            "tags": []
          },
          "execution_count": 69
        }
      ]
    },
    {
      "cell_type": "code",
      "metadata": {
        "colab": {
          "base_uri": "https://localhost:8080/"
        },
        "id": "awr-PuUYa7q1",
        "outputId": "9e5912f8-4a96-44be-a158-74720b3b45bd"
      },
      "source": [
        "from sklearn.metrics import classification_report\n",
        "print(classification_report(y_test,prediction_train_test))"
      ],
      "execution_count": 70,
      "outputs": [
        {
          "output_type": "stream",
          "text": [
            "              precision    recall  f1-score   support\n",
            "\n",
            "           0       0.97      0.98      0.98    245369\n",
            "           1       0.62      0.57      0.59     15856\n",
            "\n",
            "    accuracy                           0.95    261225\n",
            "   macro avg       0.80      0.77      0.78    261225\n",
            "weighted avg       0.95      0.95      0.95    261225\n",
            "\n"
          ],
          "name": "stdout"
        }
      ]
    },
    {
      "cell_type": "code",
      "metadata": {
        "colab": {
          "base_uri": "https://localhost:8080/"
        },
        "id": "9DHc9lUmbBWq",
        "outputId": "a9d9c4c1-f3c3-4730-f801-0d940fe66623"
      },
      "source": [
        "%%time\n",
        "tokenized_test = tokenizer.texts_to_sequences(test_df['clean_test_text'])\n",
        "test_text = pad_sequences(tokenized_test,maxlen = max_text_length)\n",
        "prediction_test_set = quora_model_with_glove.predict_classes(test_text)"
      ],
      "execution_count": 73,
      "outputs": [
        {
          "output_type": "stream",
          "text": [
            "CPU times: user 2min 18s, sys: 8.44 s, total: 2min 27s\n",
            "Wall time: 2min 7s\n"
          ],
          "name": "stdout"
        }
      ]
    },
    {
      "cell_type": "code",
      "metadata": {
        "colab": {
          "base_uri": "https://localhost:8080/"
        },
        "id": "6ntu8bZObI3X",
        "outputId": "2a164962-1fb9-42a1-a567-85cb8d3df221"
      },
      "source": [
        "prediction_test_set"
      ],
      "execution_count": 74,
      "outputs": [
        {
          "output_type": "execute_result",
          "data": {
            "text/plain": [
              "array([[1],\n",
              "       [0],\n",
              "       [0],\n",
              "       ...,\n",
              "       [0],\n",
              "       [0],\n",
              "       [1]], dtype=int32)"
            ]
          },
          "metadata": {
            "tags": []
          },
          "execution_count": 74
        }
      ]
    },
    {
      "cell_type": "code",
      "metadata": {
        "id": "2D7isDGlcB7I"
      },
      "source": [
        "# Generating a csv file from the prediction data which will be then compared with the original submission file which \n",
        "prediction_test = prediction_test_set.reshape((-1,1))\n",
        "submission = test_df[['qid']].copy()\n",
        "submission['prediction'] = prediction_test\n",
        "submission.to_csv('submission_rnn_lstm.csv',index = False)"
      ],
      "execution_count": 75,
      "outputs": []
    },
    {
      "cell_type": "code",
      "metadata": {
        "id": "vzlbWUgCcHRK"
      },
      "source": [
        ""
      ],
      "execution_count": null,
      "outputs": []
    }
  ]
}